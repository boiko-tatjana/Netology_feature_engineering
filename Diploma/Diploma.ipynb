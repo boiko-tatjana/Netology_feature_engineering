{
 "cells": [
  {
   "cell_type": "code",
   "execution_count": 87,
   "metadata": {},
   "outputs": [],
   "source": [
    "import pandas as pd\n",
    "import matplotlib.pyplot as plt\n",
    "import seaborn as sns\n",
    "import numpy as np\n",
    "from sklearn.cluster import KMeans\n",
    "import re\n",
    "from sklearn.preprocessing import LabelEncoder\n",
    "from imblearn.over_sampling import RandomOverSampler\n",
    "from sklearn.model_selection import train_test_split\n",
    "from sklearn.ensemble import RandomForestClassifier\n",
    "import matplotlib.pyplot as plt\n",
    "import seaborn as sns\n",
    "from sklearn.metrics import classification_report\n",
    "import pyproj\n",
    "from pyproj import Transformer\n",
    "from shapely.geometry import Polygon, Point\n",
    "\n",
    "import warnings\n",
    "warnings.filterwarnings(\"ignore\")"
   ]
  },
  {
   "cell_type": "markdown",
   "metadata": {},
   "source": [
    "#### <center>1. Загрузите датасет taxi.csv"
   ]
  },
  {
   "cell_type": "code",
   "execution_count": 2,
   "metadata": {},
   "outputs": [],
   "source": [
    "data = pd.read_csv('taxi.csv')"
   ]
  },
  {
   "cell_type": "code",
   "execution_count": 3,
   "metadata": {},
   "outputs": [
    {
     "data": {
      "text/html": [
       "<div>\n",
       "<style scoped>\n",
       "    .dataframe tbody tr th:only-of-type {\n",
       "        vertical-align: middle;\n",
       "    }\n",
       "\n",
       "    .dataframe tbody tr th {\n",
       "        vertical-align: top;\n",
       "    }\n",
       "\n",
       "    .dataframe thead th {\n",
       "        text-align: right;\n",
       "    }\n",
       "</style>\n",
       "<table border=\"1\" class=\"dataframe\">\n",
       "  <thead>\n",
       "    <tr style=\"text-align: right;\">\n",
       "      <th></th>\n",
       "      <th>offer_gk</th>\n",
       "      <th>weekday_key</th>\n",
       "      <th>hour_key</th>\n",
       "      <th>driver_gk</th>\n",
       "      <th>order_gk</th>\n",
       "      <th>driver_latitude</th>\n",
       "      <th>driver_longitude</th>\n",
       "      <th>origin_order_latitude</th>\n",
       "      <th>origin_order_longitude</th>\n",
       "      <th>distance_km</th>\n",
       "      <th>duration_min</th>\n",
       "      <th>offer_class_group</th>\n",
       "      <th>ride_type_desc</th>\n",
       "      <th>driver_response</th>\n",
       "    </tr>\n",
       "  </thead>\n",
       "  <tbody>\n",
       "    <tr>\n",
       "      <th>0</th>\n",
       "      <td>1105373</td>\n",
       "      <td>5</td>\n",
       "      <td>20</td>\n",
       "      <td>6080</td>\n",
       "      <td>174182</td>\n",
       "      <td>55.818842</td>\n",
       "      <td>37.334562</td>\n",
       "      <td>55.814567</td>\n",
       "      <td>37.355010</td>\n",
       "      <td>-1.000</td>\n",
       "      <td>-1.000</td>\n",
       "      <td>Economy</td>\n",
       "      <td>private</td>\n",
       "      <td>0</td>\n",
       "    </tr>\n",
       "    <tr>\n",
       "      <th>1</th>\n",
       "      <td>759733</td>\n",
       "      <td>5</td>\n",
       "      <td>14</td>\n",
       "      <td>6080</td>\n",
       "      <td>358774</td>\n",
       "      <td>55.805342</td>\n",
       "      <td>37.515023</td>\n",
       "      <td>55.819329</td>\n",
       "      <td>37.466398</td>\n",
       "      <td>18.802</td>\n",
       "      <td>25.217</td>\n",
       "      <td>Standard</td>\n",
       "      <td>private</td>\n",
       "      <td>1</td>\n",
       "    </tr>\n",
       "    <tr>\n",
       "      <th>2</th>\n",
       "      <td>416977</td>\n",
       "      <td>6</td>\n",
       "      <td>14</td>\n",
       "      <td>6080</td>\n",
       "      <td>866260</td>\n",
       "      <td>55.813978</td>\n",
       "      <td>37.347688</td>\n",
       "      <td>55.814827</td>\n",
       "      <td>37.354074</td>\n",
       "      <td>6.747</td>\n",
       "      <td>9.800</td>\n",
       "      <td>Economy</td>\n",
       "      <td>private</td>\n",
       "      <td>0</td>\n",
       "    </tr>\n",
       "    <tr>\n",
       "      <th>3</th>\n",
       "      <td>889660</td>\n",
       "      <td>2</td>\n",
       "      <td>6</td>\n",
       "      <td>6080</td>\n",
       "      <td>163522</td>\n",
       "      <td>55.745922</td>\n",
       "      <td>37.421748</td>\n",
       "      <td>55.743469</td>\n",
       "      <td>37.431130</td>\n",
       "      <td>-1.000</td>\n",
       "      <td>-1.000</td>\n",
       "      <td>Economy</td>\n",
       "      <td>private</td>\n",
       "      <td>1</td>\n",
       "    </tr>\n",
       "    <tr>\n",
       "      <th>4</th>\n",
       "      <td>1120055</td>\n",
       "      <td>4</td>\n",
       "      <td>16</td>\n",
       "      <td>6080</td>\n",
       "      <td>506710</td>\n",
       "      <td>55.803578</td>\n",
       "      <td>37.521602</td>\n",
       "      <td>55.812559</td>\n",
       "      <td>37.527407</td>\n",
       "      <td>12.383</td>\n",
       "      <td>19.250</td>\n",
       "      <td>Economy</td>\n",
       "      <td>private</td>\n",
       "      <td>1</td>\n",
       "    </tr>\n",
       "  </tbody>\n",
       "</table>\n",
       "</div>"
      ],
      "text/plain": [
       "   offer_gk  weekday_key  hour_key  driver_gk  order_gk  driver_latitude  \\\n",
       "0   1105373            5        20       6080    174182        55.818842   \n",
       "1    759733            5        14       6080    358774        55.805342   \n",
       "2    416977            6        14       6080    866260        55.813978   \n",
       "3    889660            2         6       6080    163522        55.745922   \n",
       "4   1120055            4        16       6080    506710        55.803578   \n",
       "\n",
       "   driver_longitude  origin_order_latitude  origin_order_longitude  \\\n",
       "0         37.334562              55.814567               37.355010   \n",
       "1         37.515023              55.819329               37.466398   \n",
       "2         37.347688              55.814827               37.354074   \n",
       "3         37.421748              55.743469               37.431130   \n",
       "4         37.521602              55.812559               37.527407   \n",
       "\n",
       "   distance_km  duration_min offer_class_group ride_type_desc  driver_response  \n",
       "0       -1.000        -1.000           Economy        private                0  \n",
       "1       18.802        25.217          Standard        private                1  \n",
       "2        6.747         9.800           Economy        private                0  \n",
       "3       -1.000        -1.000           Economy        private                1  \n",
       "4       12.383        19.250           Economy        private                1  "
      ]
     },
     "execution_count": 3,
     "metadata": {},
     "output_type": "execute_result"
    }
   ],
   "source": [
    "data.head()"
   ]
  },
  {
   "cell_type": "code",
   "execution_count": 4,
   "metadata": {},
   "outputs": [
    {
     "data": {
      "text/plain": [
       "(100000, 14)"
      ]
     },
     "execution_count": 4,
     "metadata": {},
     "output_type": "execute_result"
    }
   ],
   "source": [
    "data.shape"
   ]
  },
  {
   "cell_type": "markdown",
   "metadata": {},
   "source": [
    "#### <center>2. Посмотрите на данные. Отобразите общую информацию по признакам (вспомните о describe и info). Напишите в markdown свои наблюдения"
   ]
  },
  {
   "cell_type": "code",
   "execution_count": 5,
   "metadata": {},
   "outputs": [
    {
     "data": {
      "text/html": [
       "<div>\n",
       "<style scoped>\n",
       "    .dataframe tbody tr th:only-of-type {\n",
       "        vertical-align: middle;\n",
       "    }\n",
       "\n",
       "    .dataframe tbody tr th {\n",
       "        vertical-align: top;\n",
       "    }\n",
       "\n",
       "    .dataframe thead th {\n",
       "        text-align: right;\n",
       "    }\n",
       "</style>\n",
       "<table border=\"1\" class=\"dataframe\">\n",
       "  <thead>\n",
       "    <tr style=\"text-align: right;\">\n",
       "      <th></th>\n",
       "      <th>offer_gk</th>\n",
       "      <th>weekday_key</th>\n",
       "      <th>hour_key</th>\n",
       "      <th>driver_gk</th>\n",
       "      <th>order_gk</th>\n",
       "      <th>driver_latitude</th>\n",
       "      <th>driver_longitude</th>\n",
       "      <th>origin_order_latitude</th>\n",
       "      <th>origin_order_longitude</th>\n",
       "      <th>distance_km</th>\n",
       "      <th>duration_min</th>\n",
       "      <th>driver_response</th>\n",
       "    </tr>\n",
       "  </thead>\n",
       "  <tbody>\n",
       "    <tr>\n",
       "      <th>count</th>\n",
       "      <td>1.000000e+05</td>\n",
       "      <td>100000.000000</td>\n",
       "      <td>100000.000000</td>\n",
       "      <td>100000.000000</td>\n",
       "      <td>100000.00000</td>\n",
       "      <td>100000.000000</td>\n",
       "      <td>100000.000000</td>\n",
       "      <td>100000.000000</td>\n",
       "      <td>100000.000000</td>\n",
       "      <td>100000.000000</td>\n",
       "      <td>100000.000000</td>\n",
       "      <td>100000.000000</td>\n",
       "    </tr>\n",
       "    <tr>\n",
       "      <th>mean</th>\n",
       "      <td>5.662189e+05</td>\n",
       "      <td>3.159860</td>\n",
       "      <td>13.827790</td>\n",
       "      <td>3446.376360</td>\n",
       "      <td>460867.01291</td>\n",
       "      <td>55.700824</td>\n",
       "      <td>37.492292</td>\n",
       "      <td>55.772440</td>\n",
       "      <td>37.541637</td>\n",
       "      <td>18.393518</td>\n",
       "      <td>23.134841</td>\n",
       "      <td>0.492480</td>\n",
       "    </tr>\n",
       "    <tr>\n",
       "      <th>std</th>\n",
       "      <td>3.259360e+05</td>\n",
       "      <td>2.054222</td>\n",
       "      <td>7.306496</td>\n",
       "      <td>2038.738677</td>\n",
       "      <td>266064.98953</td>\n",
       "      <td>2.135903</td>\n",
       "      <td>1.454640</td>\n",
       "      <td>0.665985</td>\n",
       "      <td>0.467758</td>\n",
       "      <td>41.129296</td>\n",
       "      <td>33.890105</td>\n",
       "      <td>0.499946</td>\n",
       "    </tr>\n",
       "    <tr>\n",
       "      <th>min</th>\n",
       "      <td>4.000000e+00</td>\n",
       "      <td>0.000000</td>\n",
       "      <td>0.000000</td>\n",
       "      <td>14.000000</td>\n",
       "      <td>18.00000</td>\n",
       "      <td>-1.000000</td>\n",
       "      <td>-1.000000</td>\n",
       "      <td>-1.000000</td>\n",
       "      <td>-1.000000</td>\n",
       "      <td>-1.000000</td>\n",
       "      <td>-1.000000</td>\n",
       "      <td>0.000000</td>\n",
       "    </tr>\n",
       "    <tr>\n",
       "      <th>25%</th>\n",
       "      <td>2.855552e+05</td>\n",
       "      <td>1.000000</td>\n",
       "      <td>8.000000</td>\n",
       "      <td>1421.000000</td>\n",
       "      <td>229178.50000</td>\n",
       "      <td>55.708651</td>\n",
       "      <td>37.413497</td>\n",
       "      <td>55.708032</td>\n",
       "      <td>37.407117</td>\n",
       "      <td>-1.000000</td>\n",
       "      <td>-1.000000</td>\n",
       "      <td>0.000000</td>\n",
       "    </tr>\n",
       "    <tr>\n",
       "      <th>50%</th>\n",
       "      <td>5.656715e+05</td>\n",
       "      <td>3.000000</td>\n",
       "      <td>16.000000</td>\n",
       "      <td>3506.500000</td>\n",
       "      <td>462420.00000</td>\n",
       "      <td>55.772904</td>\n",
       "      <td>37.533664</td>\n",
       "      <td>55.772561</td>\n",
       "      <td>37.532537</td>\n",
       "      <td>10.411500</td>\n",
       "      <td>19.700000</td>\n",
       "      <td>0.000000</td>\n",
       "    </tr>\n",
       "    <tr>\n",
       "      <th>75%</th>\n",
       "      <td>8.487198e+05</td>\n",
       "      <td>5.000000</td>\n",
       "      <td>20.000000</td>\n",
       "      <td>5242.000000</td>\n",
       "      <td>690894.00000</td>\n",
       "      <td>55.960667</td>\n",
       "      <td>37.624113</td>\n",
       "      <td>55.962000</td>\n",
       "      <td>37.624358</td>\n",
       "      <td>30.665250</td>\n",
       "      <td>37.867000</td>\n",
       "      <td>1.000000</td>\n",
       "    </tr>\n",
       "    <tr>\n",
       "      <th>max</th>\n",
       "      <td>1.130355e+06</td>\n",
       "      <td>6.000000</td>\n",
       "      <td>23.000000</td>\n",
       "      <td>6806.000000</td>\n",
       "      <td>920344.00000</td>\n",
       "      <td>56.174097</td>\n",
       "      <td>38.280547</td>\n",
       "      <td>56.311121</td>\n",
       "      <td>38.243608</td>\n",
       "      <td>5234.283000</td>\n",
       "      <td>3958.283000</td>\n",
       "      <td>1.000000</td>\n",
       "    </tr>\n",
       "  </tbody>\n",
       "</table>\n",
       "</div>"
      ],
      "text/plain": [
       "           offer_gk    weekday_key       hour_key      driver_gk  \\\n",
       "count  1.000000e+05  100000.000000  100000.000000  100000.000000   \n",
       "mean   5.662189e+05       3.159860      13.827790    3446.376360   \n",
       "std    3.259360e+05       2.054222       7.306496    2038.738677   \n",
       "min    4.000000e+00       0.000000       0.000000      14.000000   \n",
       "25%    2.855552e+05       1.000000       8.000000    1421.000000   \n",
       "50%    5.656715e+05       3.000000      16.000000    3506.500000   \n",
       "75%    8.487198e+05       5.000000      20.000000    5242.000000   \n",
       "max    1.130355e+06       6.000000      23.000000    6806.000000   \n",
       "\n",
       "           order_gk  driver_latitude  driver_longitude  origin_order_latitude  \\\n",
       "count  100000.00000    100000.000000     100000.000000          100000.000000   \n",
       "mean   460867.01291        55.700824         37.492292              55.772440   \n",
       "std    266064.98953         2.135903          1.454640               0.665985   \n",
       "min        18.00000        -1.000000         -1.000000              -1.000000   \n",
       "25%    229178.50000        55.708651         37.413497              55.708032   \n",
       "50%    462420.00000        55.772904         37.533664              55.772561   \n",
       "75%    690894.00000        55.960667         37.624113              55.962000   \n",
       "max    920344.00000        56.174097         38.280547              56.311121   \n",
       "\n",
       "       origin_order_longitude    distance_km   duration_min  driver_response  \n",
       "count           100000.000000  100000.000000  100000.000000    100000.000000  \n",
       "mean                37.541637      18.393518      23.134841         0.492480  \n",
       "std                  0.467758      41.129296      33.890105         0.499946  \n",
       "min                 -1.000000      -1.000000      -1.000000         0.000000  \n",
       "25%                 37.407117      -1.000000      -1.000000         0.000000  \n",
       "50%                 37.532537      10.411500      19.700000         0.000000  \n",
       "75%                 37.624358      30.665250      37.867000         1.000000  \n",
       "max                 38.243608    5234.283000    3958.283000         1.000000  "
      ]
     },
     "execution_count": 5,
     "metadata": {},
     "output_type": "execute_result"
    }
   ],
   "source": [
    "data.describe()"
   ]
  },
  {
   "cell_type": "code",
   "execution_count": 6,
   "metadata": {},
   "outputs": [
    {
     "data": {
      "text/html": [
       "<div>\n",
       "<style scoped>\n",
       "    .dataframe tbody tr th:only-of-type {\n",
       "        vertical-align: middle;\n",
       "    }\n",
       "\n",
       "    .dataframe tbody tr th {\n",
       "        vertical-align: top;\n",
       "    }\n",
       "\n",
       "    .dataframe thead th {\n",
       "        text-align: right;\n",
       "    }\n",
       "</style>\n",
       "<table border=\"1\" class=\"dataframe\">\n",
       "  <thead>\n",
       "    <tr style=\"text-align: right;\">\n",
       "      <th></th>\n",
       "      <th>offer_class_group</th>\n",
       "      <th>ride_type_desc</th>\n",
       "    </tr>\n",
       "  </thead>\n",
       "  <tbody>\n",
       "    <tr>\n",
       "      <th>count</th>\n",
       "      <td>100000</td>\n",
       "      <td>100000</td>\n",
       "    </tr>\n",
       "    <tr>\n",
       "      <th>unique</th>\n",
       "      <td>9</td>\n",
       "      <td>4</td>\n",
       "    </tr>\n",
       "    <tr>\n",
       "      <th>top</th>\n",
       "      <td>Economy</td>\n",
       "      <td>private</td>\n",
       "    </tr>\n",
       "    <tr>\n",
       "      <th>freq</th>\n",
       "      <td>48335</td>\n",
       "      <td>91207</td>\n",
       "    </tr>\n",
       "  </tbody>\n",
       "</table>\n",
       "</div>"
      ],
      "text/plain": [
       "       offer_class_group ride_type_desc\n",
       "count             100000         100000\n",
       "unique                 9              4\n",
       "top              Economy        private\n",
       "freq               48335          91207"
      ]
     },
     "execution_count": 6,
     "metadata": {},
     "output_type": "execute_result"
    }
   ],
   "source": [
    "data.describe(include = 'object')"
   ]
  },
  {
   "cell_type": "code",
   "execution_count": 7,
   "metadata": {},
   "outputs": [
    {
     "name": "stdout",
     "output_type": "stream",
     "text": [
      "<class 'pandas.core.frame.DataFrame'>\n",
      "RangeIndex: 100000 entries, 0 to 99999\n",
      "Data columns (total 14 columns):\n",
      " #   Column                  Non-Null Count   Dtype  \n",
      "---  ------                  --------------   -----  \n",
      " 0   offer_gk                100000 non-null  int64  \n",
      " 1   weekday_key             100000 non-null  int64  \n",
      " 2   hour_key                100000 non-null  int64  \n",
      " 3   driver_gk               100000 non-null  int64  \n",
      " 4   order_gk                100000 non-null  int64  \n",
      " 5   driver_latitude         100000 non-null  float64\n",
      " 6   driver_longitude        100000 non-null  float64\n",
      " 7   origin_order_latitude   100000 non-null  float64\n",
      " 8   origin_order_longitude  100000 non-null  float64\n",
      " 9   distance_km             100000 non-null  float64\n",
      " 10  duration_min            100000 non-null  float64\n",
      " 11  offer_class_group       100000 non-null  object \n",
      " 12  ride_type_desc          100000 non-null  object \n",
      " 13  driver_response         100000 non-null  int64  \n",
      "dtypes: float64(6), int64(6), object(2)\n",
      "memory usage: 10.7+ MB\n"
     ]
    }
   ],
   "source": [
    "data.info()"
   ]
  },
  {
   "cell_type": "markdown",
   "metadata": {},
   "source": [
    "Наблюдения:\n",
    "1. offer_gk - номер заказа, числовая переменная, пропущенных значений нет. Первый кандидат на удаление (особой информативности нет). Можно проверить, сколько уникальных значений."
   ]
  },
  {
   "cell_type": "code",
   "execution_count": 8,
   "metadata": {},
   "outputs": [
    {
     "data": {
      "text/plain": [
       "100000"
      ]
     },
     "execution_count": 8,
     "metadata": {},
     "output_type": "execute_result"
    }
   ],
   "source": [
    "len(data.offer_gk.unique())"
   ]
  },
  {
   "cell_type": "markdown",
   "metadata": {},
   "source": [
    "Все значения уникальные."
   ]
  },
  {
   "cell_type": "markdown",
   "metadata": {},
   "source": [
    "2. weekday_key - номер дня недели, числовая переменная."
   ]
  },
  {
   "cell_type": "code",
   "execution_count": 9,
   "metadata": {},
   "outputs": [
    {
     "data": {
      "text/plain": [
       "5    19284\n",
       "6    15466\n",
       "0    14411\n",
       "4    13290\n",
       "1    13089\n",
       "2    12859\n",
       "3    11601\n",
       "Name: weekday_key, dtype: int64"
      ]
     },
     "execution_count": 9,
     "metadata": {},
     "output_type": "execute_result"
    }
   ],
   "source": [
    "data.weekday_key.value_counts()"
   ]
  },
  {
   "cell_type": "markdown",
   "metadata": {},
   "source": [
    "Предположительно, 0 - это понедельник, 6 - воскресенье. Получается, что наибольшее количесвто заказов было в субботу.  \n",
    "Пропущенных значений нет."
   ]
  },
  {
   "cell_type": "markdown",
   "metadata": {},
   "source": [
    "3. hour_key - номер часа, числовая переменная."
   ]
  },
  {
   "cell_type": "code",
   "execution_count": 10,
   "metadata": {},
   "outputs": [
    {
     "data": {
      "text/plain": [
       "23    8184\n",
       "21    7398\n",
       "22    6881\n",
       "0     6646\n",
       "20    6566\n",
       "19    6369\n",
       "18    5889\n",
       "17    5028\n",
       "16    4500\n",
       "15    4249\n",
       "14    3584\n",
       "8     3550\n",
       "1     3467\n",
       "13    3355\n",
       "9     3298\n",
       "12    3169\n",
       "11    2890\n",
       "10    2840\n",
       "7     2482\n",
       "2     2275\n",
       "4     2193\n",
       "5     1809\n",
       "3     1768\n",
       "6     1610\n",
       "Name: hour_key, dtype: int64"
      ]
     },
     "execution_count": 10,
     "metadata": {},
     "output_type": "execute_result"
    }
   ],
   "source": [
    "data.hour_key.value_counts()"
   ]
  },
  {
   "cell_type": "markdown",
   "metadata": {},
   "source": [
    "Больше всего заказов - в ночное время. Пропущенных знаечний нет."
   ]
  },
  {
   "cell_type": "markdown",
   "metadata": {},
   "source": [
    "4. order_gk - номер заказа (еще один), числовая переменная, пропущенных значений нет. Второй кандидат на удаление (особой информативности нет)."
   ]
  },
  {
   "cell_type": "code",
   "execution_count": 11,
   "metadata": {},
   "outputs": [
    {
     "data": {
      "text/plain": [
       "853342    14\n",
       "714527    13\n",
       "761031    13\n",
       "828548    12\n",
       "180487    12\n",
       "          ..\n",
       "529767     1\n",
       "361705     1\n",
       "57063      1\n",
       "782999     1\n",
       "786432     1\n",
       "Name: order_gk, Length: 81435, dtype: int64"
      ]
     },
     "execution_count": 11,
     "metadata": {},
     "output_type": "execute_result"
    }
   ],
   "source": [
    "data.order_gk.value_counts()"
   ]
  },
  {
   "cell_type": "code",
   "execution_count": 12,
   "metadata": {},
   "outputs": [
    {
     "data": {
      "text/html": [
       "<div>\n",
       "<style scoped>\n",
       "    .dataframe tbody tr th:only-of-type {\n",
       "        vertical-align: middle;\n",
       "    }\n",
       "\n",
       "    .dataframe tbody tr th {\n",
       "        vertical-align: top;\n",
       "    }\n",
       "\n",
       "    .dataframe thead th {\n",
       "        text-align: right;\n",
       "    }\n",
       "</style>\n",
       "<table border=\"1\" class=\"dataframe\">\n",
       "  <thead>\n",
       "    <tr style=\"text-align: right;\">\n",
       "      <th></th>\n",
       "      <th>offer_gk</th>\n",
       "      <th>weekday_key</th>\n",
       "      <th>hour_key</th>\n",
       "      <th>driver_gk</th>\n",
       "      <th>order_gk</th>\n",
       "      <th>driver_latitude</th>\n",
       "      <th>driver_longitude</th>\n",
       "      <th>origin_order_latitude</th>\n",
       "      <th>origin_order_longitude</th>\n",
       "      <th>distance_km</th>\n",
       "      <th>duration_min</th>\n",
       "      <th>offer_class_group</th>\n",
       "      <th>ride_type_desc</th>\n",
       "      <th>driver_response</th>\n",
       "    </tr>\n",
       "  </thead>\n",
       "  <tbody>\n",
       "    <tr>\n",
       "      <th>23218</th>\n",
       "      <td>929594</td>\n",
       "      <td>5</td>\n",
       "      <td>23</td>\n",
       "      <td>4339</td>\n",
       "      <td>853342</td>\n",
       "      <td>55.966694</td>\n",
       "      <td>37.415752</td>\n",
       "      <td>55.962322</td>\n",
       "      <td>37.407117</td>\n",
       "      <td>7.718</td>\n",
       "      <td>16.7</td>\n",
       "      <td>Economy</td>\n",
       "      <td>private</td>\n",
       "      <td>0</td>\n",
       "    </tr>\n",
       "    <tr>\n",
       "      <th>23484</th>\n",
       "      <td>574355</td>\n",
       "      <td>5</td>\n",
       "      <td>23</td>\n",
       "      <td>801</td>\n",
       "      <td>853342</td>\n",
       "      <td>55.961051</td>\n",
       "      <td>37.415866</td>\n",
       "      <td>55.962322</td>\n",
       "      <td>37.407117</td>\n",
       "      <td>7.718</td>\n",
       "      <td>16.7</td>\n",
       "      <td>Economy</td>\n",
       "      <td>private</td>\n",
       "      <td>0</td>\n",
       "    </tr>\n",
       "    <tr>\n",
       "      <th>23651</th>\n",
       "      <td>394516</td>\n",
       "      <td>5</td>\n",
       "      <td>23</td>\n",
       "      <td>2236</td>\n",
       "      <td>853342</td>\n",
       "      <td>55.962323</td>\n",
       "      <td>37.407117</td>\n",
       "      <td>55.962322</td>\n",
       "      <td>37.407117</td>\n",
       "      <td>7.718</td>\n",
       "      <td>16.7</td>\n",
       "      <td>Economy</td>\n",
       "      <td>private</td>\n",
       "      <td>0</td>\n",
       "    </tr>\n",
       "    <tr>\n",
       "      <th>24326</th>\n",
       "      <td>609443</td>\n",
       "      <td>5</td>\n",
       "      <td>23</td>\n",
       "      <td>4600</td>\n",
       "      <td>853342</td>\n",
       "      <td>55.962324</td>\n",
       "      <td>37.407116</td>\n",
       "      <td>55.962322</td>\n",
       "      <td>37.407117</td>\n",
       "      <td>7.718</td>\n",
       "      <td>16.7</td>\n",
       "      <td>Economy</td>\n",
       "      <td>private</td>\n",
       "      <td>0</td>\n",
       "    </tr>\n",
       "    <tr>\n",
       "      <th>24651</th>\n",
       "      <td>726807</td>\n",
       "      <td>5</td>\n",
       "      <td>23</td>\n",
       "      <td>4804</td>\n",
       "      <td>853342</td>\n",
       "      <td>55.960693</td>\n",
       "      <td>37.415349</td>\n",
       "      <td>55.962322</td>\n",
       "      <td>37.407117</td>\n",
       "      <td>7.718</td>\n",
       "      <td>16.7</td>\n",
       "      <td>Economy</td>\n",
       "      <td>private</td>\n",
       "      <td>0</td>\n",
       "    </tr>\n",
       "    <tr>\n",
       "      <th>24926</th>\n",
       "      <td>1066357</td>\n",
       "      <td>5</td>\n",
       "      <td>23</td>\n",
       "      <td>4100</td>\n",
       "      <td>853342</td>\n",
       "      <td>55.961092</td>\n",
       "      <td>37.413188</td>\n",
       "      <td>55.962322</td>\n",
       "      <td>37.407117</td>\n",
       "      <td>7.718</td>\n",
       "      <td>16.7</td>\n",
       "      <td>Economy</td>\n",
       "      <td>private</td>\n",
       "      <td>0</td>\n",
       "    </tr>\n",
       "    <tr>\n",
       "      <th>25672</th>\n",
       "      <td>338185</td>\n",
       "      <td>5</td>\n",
       "      <td>23</td>\n",
       "      <td>1793</td>\n",
       "      <td>853342</td>\n",
       "      <td>55.962122</td>\n",
       "      <td>37.409464</td>\n",
       "      <td>55.962322</td>\n",
       "      <td>37.407117</td>\n",
       "      <td>7.718</td>\n",
       "      <td>16.7</td>\n",
       "      <td>Economy</td>\n",
       "      <td>private</td>\n",
       "      <td>0</td>\n",
       "    </tr>\n",
       "    <tr>\n",
       "      <th>26857</th>\n",
       "      <td>882098</td>\n",
       "      <td>5</td>\n",
       "      <td>23</td>\n",
       "      <td>668</td>\n",
       "      <td>853342</td>\n",
       "      <td>55.962427</td>\n",
       "      <td>37.409279</td>\n",
       "      <td>55.962322</td>\n",
       "      <td>37.407117</td>\n",
       "      <td>7.718</td>\n",
       "      <td>16.7</td>\n",
       "      <td>Economy</td>\n",
       "      <td>private</td>\n",
       "      <td>0</td>\n",
       "    </tr>\n",
       "    <tr>\n",
       "      <th>27009</th>\n",
       "      <td>937263</td>\n",
       "      <td>5</td>\n",
       "      <td>23</td>\n",
       "      <td>2381</td>\n",
       "      <td>853342</td>\n",
       "      <td>55.961857</td>\n",
       "      <td>37.414049</td>\n",
       "      <td>55.962322</td>\n",
       "      <td>37.407117</td>\n",
       "      <td>7.718</td>\n",
       "      <td>16.7</td>\n",
       "      <td>Economy</td>\n",
       "      <td>private</td>\n",
       "      <td>0</td>\n",
       "    </tr>\n",
       "    <tr>\n",
       "      <th>27502</th>\n",
       "      <td>16487</td>\n",
       "      <td>5</td>\n",
       "      <td>23</td>\n",
       "      <td>1060</td>\n",
       "      <td>853342</td>\n",
       "      <td>55.961859</td>\n",
       "      <td>37.407126</td>\n",
       "      <td>55.962322</td>\n",
       "      <td>37.407117</td>\n",
       "      <td>7.718</td>\n",
       "      <td>16.7</td>\n",
       "      <td>Economy</td>\n",
       "      <td>private</td>\n",
       "      <td>0</td>\n",
       "    </tr>\n",
       "    <tr>\n",
       "      <th>30282</th>\n",
       "      <td>345109</td>\n",
       "      <td>5</td>\n",
       "      <td>23</td>\n",
       "      <td>5917</td>\n",
       "      <td>853342</td>\n",
       "      <td>55.961061</td>\n",
       "      <td>37.413291</td>\n",
       "      <td>55.962322</td>\n",
       "      <td>37.407117</td>\n",
       "      <td>7.718</td>\n",
       "      <td>16.7</td>\n",
       "      <td>Economy</td>\n",
       "      <td>private</td>\n",
       "      <td>0</td>\n",
       "    </tr>\n",
       "    <tr>\n",
       "      <th>31008</th>\n",
       "      <td>149010</td>\n",
       "      <td>5</td>\n",
       "      <td>23</td>\n",
       "      <td>6290</td>\n",
       "      <td>853342</td>\n",
       "      <td>55.965095</td>\n",
       "      <td>37.429087</td>\n",
       "      <td>55.962322</td>\n",
       "      <td>37.407117</td>\n",
       "      <td>7.718</td>\n",
       "      <td>16.7</td>\n",
       "      <td>Economy</td>\n",
       "      <td>private</td>\n",
       "      <td>0</td>\n",
       "    </tr>\n",
       "    <tr>\n",
       "      <th>31179</th>\n",
       "      <td>127613</td>\n",
       "      <td>5</td>\n",
       "      <td>23</td>\n",
       "      <td>6762</td>\n",
       "      <td>853342</td>\n",
       "      <td>55.964892</td>\n",
       "      <td>37.413543</td>\n",
       "      <td>55.962322</td>\n",
       "      <td>37.407117</td>\n",
       "      <td>7.718</td>\n",
       "      <td>16.7</td>\n",
       "      <td>Economy</td>\n",
       "      <td>private</td>\n",
       "      <td>0</td>\n",
       "    </tr>\n",
       "    <tr>\n",
       "      <th>32631</th>\n",
       "      <td>591326</td>\n",
       "      <td>5</td>\n",
       "      <td>23</td>\n",
       "      <td>4735</td>\n",
       "      <td>853342</td>\n",
       "      <td>55.965487</td>\n",
       "      <td>37.431341</td>\n",
       "      <td>55.962322</td>\n",
       "      <td>37.407117</td>\n",
       "      <td>7.718</td>\n",
       "      <td>16.7</td>\n",
       "      <td>Economy</td>\n",
       "      <td>private</td>\n",
       "      <td>0</td>\n",
       "    </tr>\n",
       "  </tbody>\n",
       "</table>\n",
       "</div>"
      ],
      "text/plain": [
       "       offer_gk  weekday_key  hour_key  driver_gk  order_gk  driver_latitude  \\\n",
       "23218    929594            5        23       4339    853342        55.966694   \n",
       "23484    574355            5        23        801    853342        55.961051   \n",
       "23651    394516            5        23       2236    853342        55.962323   \n",
       "24326    609443            5        23       4600    853342        55.962324   \n",
       "24651    726807            5        23       4804    853342        55.960693   \n",
       "24926   1066357            5        23       4100    853342        55.961092   \n",
       "25672    338185            5        23       1793    853342        55.962122   \n",
       "26857    882098            5        23        668    853342        55.962427   \n",
       "27009    937263            5        23       2381    853342        55.961857   \n",
       "27502     16487            5        23       1060    853342        55.961859   \n",
       "30282    345109            5        23       5917    853342        55.961061   \n",
       "31008    149010            5        23       6290    853342        55.965095   \n",
       "31179    127613            5        23       6762    853342        55.964892   \n",
       "32631    591326            5        23       4735    853342        55.965487   \n",
       "\n",
       "       driver_longitude  origin_order_latitude  origin_order_longitude  \\\n",
       "23218         37.415752              55.962322               37.407117   \n",
       "23484         37.415866              55.962322               37.407117   \n",
       "23651         37.407117              55.962322               37.407117   \n",
       "24326         37.407116              55.962322               37.407117   \n",
       "24651         37.415349              55.962322               37.407117   \n",
       "24926         37.413188              55.962322               37.407117   \n",
       "25672         37.409464              55.962322               37.407117   \n",
       "26857         37.409279              55.962322               37.407117   \n",
       "27009         37.414049              55.962322               37.407117   \n",
       "27502         37.407126              55.962322               37.407117   \n",
       "30282         37.413291              55.962322               37.407117   \n",
       "31008         37.429087              55.962322               37.407117   \n",
       "31179         37.413543              55.962322               37.407117   \n",
       "32631         37.431341              55.962322               37.407117   \n",
       "\n",
       "       distance_km  duration_min offer_class_group ride_type_desc  \\\n",
       "23218        7.718          16.7           Economy        private   \n",
       "23484        7.718          16.7           Economy        private   \n",
       "23651        7.718          16.7           Economy        private   \n",
       "24326        7.718          16.7           Economy        private   \n",
       "24651        7.718          16.7           Economy        private   \n",
       "24926        7.718          16.7           Economy        private   \n",
       "25672        7.718          16.7           Economy        private   \n",
       "26857        7.718          16.7           Economy        private   \n",
       "27009        7.718          16.7           Economy        private   \n",
       "27502        7.718          16.7           Economy        private   \n",
       "30282        7.718          16.7           Economy        private   \n",
       "31008        7.718          16.7           Economy        private   \n",
       "31179        7.718          16.7           Economy        private   \n",
       "32631        7.718          16.7           Economy        private   \n",
       "\n",
       "       driver_response  \n",
       "23218                0  \n",
       "23484                0  \n",
       "23651                0  \n",
       "24326                0  \n",
       "24651                0  \n",
       "24926                0  \n",
       "25672                0  \n",
       "26857                0  \n",
       "27009                0  \n",
       "27502                0  \n",
       "30282                0  \n",
       "31008                0  \n",
       "31179                0  \n",
       "32631                0  "
      ]
     },
     "execution_count": 12,
     "metadata": {},
     "output_type": "execute_result"
    }
   ],
   "source": [
    "data[data.order_gk == 853342]"
   ]
  },
  {
   "cell_type": "markdown",
   "metadata": {},
   "source": [
    "Интересно отметить, что в order_gk присутсвуют повторяющиеся значения. Можно предположить, что order_gk - это номер заказа от пассажира (он изъявил желание куда-то уехать), а offer_gk - это номер заказа для водителя (согласится он брать этого пассажира или нет."
   ]
  },
  {
   "cell_type": "markdown",
   "metadata": {},
   "source": [
    "5. driver_latitude - широта места, где располагается водитель, числовая переменная. Пропущенные значения есть (-1)."
   ]
  },
  {
   "cell_type": "code",
   "execution_count": 13,
   "metadata": {},
   "outputs": [
    {
     "data": {
      "text/plain": [
       "(140, 14)"
      ]
     },
     "execution_count": 13,
     "metadata": {},
     "output_type": "execute_result"
    }
   ],
   "source": [
    "data[data.driver_latitude == -1].shape"
   ]
  },
  {
   "cell_type": "markdown",
   "metadata": {},
   "source": [
    "Всего в наборе 100 000 записей, пропущенных значений в переменной driver_latitude - 140. Не так много. Можно удалить."
   ]
  },
  {
   "cell_type": "markdown",
   "metadata": {},
   "source": [
    "6. driver_longitude - долгота места, где располагается водитель, числовая переменная. Пропущенные значения есть (-1)."
   ]
  },
  {
   "cell_type": "code",
   "execution_count": 14,
   "metadata": {},
   "outputs": [
    {
     "data": {
      "text/plain": [
       "(140, 14)"
      ]
     },
     "execution_count": 14,
     "metadata": {},
     "output_type": "execute_result"
    }
   ],
   "source": [
    "data[data.driver_longitude == -1].shape"
   ]
  },
  {
   "cell_type": "markdown",
   "metadata": {},
   "source": [
    "Пропущенные значения можно удалить."
   ]
  },
  {
   "cell_type": "markdown",
   "metadata": {},
   "source": [
    "7. origin_order_latitude - широта начального пункта маршрута, числовая переменная. Пропущенные значения есть (-1)."
   ]
  },
  {
   "cell_type": "code",
   "execution_count": 15,
   "metadata": {},
   "outputs": [
    {
     "data": {
      "text/plain": [
       "(13, 14)"
      ]
     },
     "execution_count": 15,
     "metadata": {},
     "output_type": "execute_result"
    }
   ],
   "source": [
    "data[data.origin_order_latitude == -1].shape"
   ]
  },
  {
   "cell_type": "markdown",
   "metadata": {},
   "source": [
    "Пропущенные значения можно удалить."
   ]
  },
  {
   "cell_type": "markdown",
   "metadata": {},
   "source": [
    "8. origin_order_longitude - долгота начального пункта маршрута, числовая переменная. Пропущенные значения есть (-1)."
   ]
  },
  {
   "cell_type": "code",
   "execution_count": 16,
   "metadata": {},
   "outputs": [
    {
     "data": {
      "text/plain": [
       "(13, 14)"
      ]
     },
     "execution_count": 16,
     "metadata": {},
     "output_type": "execute_result"
    }
   ],
   "source": [
    "data[data.origin_order_longitude == -1].shape"
   ]
  },
  {
   "cell_type": "markdown",
   "metadata": {},
   "source": [
    "Пропущенные значения можно удалить."
   ]
  },
  {
   "cell_type": "markdown",
   "metadata": {},
   "source": [
    "9. distance_km - дистанция, в км., числовая переменная. Есть пропущенные значения."
   ]
  },
  {
   "cell_type": "code",
   "execution_count": 17,
   "metadata": {},
   "outputs": [
    {
     "data": {
      "text/plain": [
       "(26207, 14)"
      ]
     },
     "execution_count": 17,
     "metadata": {},
     "output_type": "execute_result"
    }
   ],
   "source": [
    "data[data.distance_km == -1].shape"
   ]
  },
  {
   "cell_type": "markdown",
   "metadata": {},
   "source": [
    "Много пропущенных значений. Что с ними делать -- пока не понятно...  \n",
    "Максимальное значение -- вызывает сомнения."
   ]
  },
  {
   "cell_type": "markdown",
   "metadata": {},
   "source": [
    "10. duration_min - продолжительность поездки, в мин., числовая переменная. Есть пропущенные значения."
   ]
  },
  {
   "cell_type": "code",
   "execution_count": 18,
   "metadata": {},
   "outputs": [
    {
     "data": {
      "text/plain": [
       "(26207, 14)"
      ]
     },
     "execution_count": 18,
     "metadata": {},
     "output_type": "execute_result"
    }
   ],
   "source": [
    "data[data.duration_min == -1].shape"
   ]
  },
  {
   "cell_type": "markdown",
   "metadata": {},
   "source": [
    "Много пропущенных значений. Что с ними делать -- пока не понятно...  \n",
    "Максимальное значение -- вызывает сомнения."
   ]
  },
  {
   "cell_type": "markdown",
   "metadata": {},
   "source": [
    "10. offer_class_group - класс поездки, категориальная переменная (9 уровней). Пропущенных значений нет."
   ]
  },
  {
   "cell_type": "code",
   "execution_count": 19,
   "metadata": {},
   "outputs": [
    {
     "data": {
      "text/plain": [
       "Economy     48335\n",
       "Standard    47288\n",
       "Premium      1773\n",
       "Delivery     1290\n",
       "Kids          588\n",
       "XL            464\n",
       "VIP           225\n",
       "VIP+           29\n",
       "Test            8\n",
       "Name: offer_class_group, dtype: int64"
      ]
     },
     "execution_count": 19,
     "metadata": {},
     "output_type": "execute_result"
    }
   ],
   "source": [
    "data.offer_class_group.value_counts()"
   ]
  },
  {
   "cell_type": "markdown",
   "metadata": {},
   "source": [
    "11. ride_type_desc - предположительно - перевозчик, категориальная переменная. Пропущенных значений нет."
   ]
  },
  {
   "cell_type": "code",
   "execution_count": 20,
   "metadata": {},
   "outputs": [
    {
     "data": {
      "text/plain": [
       "private      91207\n",
       "business      8533\n",
       "affiliate      224\n",
       "SMB             36\n",
       "Name: ride_type_desc, dtype: int64"
      ]
     },
     "execution_count": 20,
     "metadata": {},
     "output_type": "execute_result"
    }
   ],
   "source": [
    "data.ride_type_desc.value_counts()"
   ]
  },
  {
   "cell_type": "markdown",
   "metadata": {},
   "source": [
    "12. driver_response - решение водителя: брать заказ или нет, булева переменная. Пропущенных значений нет."
   ]
  },
  {
   "cell_type": "markdown",
   "metadata": {},
   "source": [
    "#### <center>3. Решения для пропущенных и сомнительных значений"
   ]
  },
  {
   "cell_type": "markdown",
   "metadata": {},
   "source": [
    "Построим диаграмму размаха для переменной distance_km:"
   ]
  },
  {
   "cell_type": "code",
   "execution_count": 21,
   "metadata": {},
   "outputs": [
    {
     "data": {
      "image/png": "[encoded data removed]",
      "text/plain": [
       "<Figure size 720x720 with 1 Axes>"
      ]
     },
     "metadata": {
      "needs_background": "light"
     },
     "output_type": "display_data"
    }
   ],
   "source": [
    "plt.rcParams['figure.figsize'] = (10,10)\n",
    "ax = sns.boxplot(y = 'distance_km', data = data)\n",
    "\n",
    "ax.set_xlabel('', fontsize = 10)\n",
    "ax.set_ylabel('distance_km', fontsize = 10)\n",
    "ax.tick_params(labelsize = 10)\n",
    "plt.show()"
   ]
  },
  {
   "cell_type": "markdown",
   "metadata": {},
   "source": [
    "5000 км - сомнительная дистанция. Попробуем определить город, по которому собраны данные. По широте и долготе было определено, что данные собраны по России (Москве)..."
   ]
  },
  {
   "cell_type": "markdown",
   "metadata": {},
   "source": [
    "Построим гистограмму:"
   ]
  },
  {
   "cell_type": "code",
   "execution_count": 22,
   "metadata": {},
   "outputs": [
    {
     "data": {
      "text/plain": [
       "<AxesSubplot:>"
      ]
     },
     "execution_count": 22,
     "metadata": {},
     "output_type": "execute_result"
    },
    {
     "data": {
      "image/png": "[encoded data removed]",
      "text/plain": [
       "<Figure size 720x720 with 1 Axes>"
      ]
     },
     "metadata": {
      "needs_background": "light"
     },
     "output_type": "display_data"
    }
   ],
   "source": [
    "data.distance_km.hist(bins = 10)"
   ]
  },
  {
   "cell_type": "markdown",
   "metadata": {},
   "source": [
    "Средний диаметр МКАД - 36 км, ЦКАД находится на расстоянии 50 км от МКАД, следовательно, будем считать, что дальность поездки заказов в пределах города не могут превышать 160 км. Отфильтруем данные."
   ]
  },
  {
   "cell_type": "code",
   "execution_count": 23,
   "metadata": {},
   "outputs": [
    {
     "data": {
      "text/plain": [
       "(75, 14)"
      ]
     },
     "execution_count": 23,
     "metadata": {},
     "output_type": "execute_result"
    }
   ],
   "source": [
    "data[data.distance_km > 160].shape"
   ]
  },
  {
   "cell_type": "markdown",
   "metadata": {},
   "source": [
    "Данных не так много, поэтому целесообразно их удалить."
   ]
  },
  {
   "cell_type": "code",
   "execution_count": 24,
   "metadata": {},
   "outputs": [],
   "source": [
    "data = data[data.distance_km <= 160]"
   ]
  },
  {
   "cell_type": "code",
   "execution_count": 25,
   "metadata": {},
   "outputs": [
    {
     "data": {
      "text/html": [
       "<div>\n",
       "<style scoped>\n",
       "    .dataframe tbody tr th:only-of-type {\n",
       "        vertical-align: middle;\n",
       "    }\n",
       "\n",
       "    .dataframe tbody tr th {\n",
       "        vertical-align: top;\n",
       "    }\n",
       "\n",
       "    .dataframe thead th {\n",
       "        text-align: right;\n",
       "    }\n",
       "</style>\n",
       "<table border=\"1\" class=\"dataframe\">\n",
       "  <thead>\n",
       "    <tr style=\"text-align: right;\">\n",
       "      <th></th>\n",
       "      <th>offer_gk</th>\n",
       "      <th>weekday_key</th>\n",
       "      <th>hour_key</th>\n",
       "      <th>driver_gk</th>\n",
       "      <th>order_gk</th>\n",
       "      <th>driver_latitude</th>\n",
       "      <th>driver_longitude</th>\n",
       "      <th>origin_order_latitude</th>\n",
       "      <th>origin_order_longitude</th>\n",
       "      <th>distance_km</th>\n",
       "      <th>duration_min</th>\n",
       "      <th>driver_response</th>\n",
       "    </tr>\n",
       "  </thead>\n",
       "  <tbody>\n",
       "    <tr>\n",
       "      <th>count</th>\n",
       "      <td>9.992500e+04</td>\n",
       "      <td>99925.000000</td>\n",
       "      <td>99925.00000</td>\n",
       "      <td>99925.000000</td>\n",
       "      <td>99925.000000</td>\n",
       "      <td>99925.000000</td>\n",
       "      <td>99925.000000</td>\n",
       "      <td>99925.000000</td>\n",
       "      <td>99925.000000</td>\n",
       "      <td>99925.000000</td>\n",
       "      <td>99925.000000</td>\n",
       "      <td>99925.000000</td>\n",
       "    </tr>\n",
       "    <tr>\n",
       "      <th>mean</th>\n",
       "      <td>5.662353e+05</td>\n",
       "      <td>3.159480</td>\n",
       "      <td>13.82697</td>\n",
       "      <td>3446.234556</td>\n",
       "      <td>460867.680560</td>\n",
       "      <td>55.700847</td>\n",
       "      <td>37.492180</td>\n",
       "      <td>55.772518</td>\n",
       "      <td>37.541561</td>\n",
       "      <td>17.757299</td>\n",
       "      <td>22.658336</td>\n",
       "      <td>0.492329</td>\n",
       "    </tr>\n",
       "    <tr>\n",
       "      <th>std</th>\n",
       "      <td>3.259377e+05</td>\n",
       "      <td>2.054282</td>\n",
       "      <td>7.30722</td>\n",
       "      <td>2038.724365</td>\n",
       "      <td>266056.473936</td>\n",
       "      <td>2.136699</td>\n",
       "      <td>1.455170</td>\n",
       "      <td>0.666212</td>\n",
       "      <td>0.467893</td>\n",
       "      <td>20.270671</td>\n",
       "      <td>20.760357</td>\n",
       "      <td>0.499944</td>\n",
       "    </tr>\n",
       "    <tr>\n",
       "      <th>min</th>\n",
       "      <td>4.000000e+00</td>\n",
       "      <td>0.000000</td>\n",
       "      <td>0.00000</td>\n",
       "      <td>14.000000</td>\n",
       "      <td>18.000000</td>\n",
       "      <td>-1.000000</td>\n",
       "      <td>-1.000000</td>\n",
       "      <td>-1.000000</td>\n",
       "      <td>-1.000000</td>\n",
       "      <td>-1.000000</td>\n",
       "      <td>-1.000000</td>\n",
       "      <td>0.000000</td>\n",
       "    </tr>\n",
       "    <tr>\n",
       "      <th>25%</th>\n",
       "      <td>2.855610e+05</td>\n",
       "      <td>1.000000</td>\n",
       "      <td>8.00000</td>\n",
       "      <td>1421.000000</td>\n",
       "      <td>229181.000000</td>\n",
       "      <td>55.708711</td>\n",
       "      <td>37.413497</td>\n",
       "      <td>55.708127</td>\n",
       "      <td>37.407117</td>\n",
       "      <td>-1.000000</td>\n",
       "      <td>-1.000000</td>\n",
       "      <td>0.000000</td>\n",
       "    </tr>\n",
       "    <tr>\n",
       "      <th>50%</th>\n",
       "      <td>5.657090e+05</td>\n",
       "      <td>3.000000</td>\n",
       "      <td>16.00000</td>\n",
       "      <td>3507.000000</td>\n",
       "      <td>462420.000000</td>\n",
       "      <td>55.772948</td>\n",
       "      <td>37.533589</td>\n",
       "      <td>55.772562</td>\n",
       "      <td>37.532490</td>\n",
       "      <td>10.395000</td>\n",
       "      <td>19.683000</td>\n",
       "      <td>0.000000</td>\n",
       "    </tr>\n",
       "    <tr>\n",
       "      <th>75%</th>\n",
       "      <td>8.487470e+05</td>\n",
       "      <td>5.000000</td>\n",
       "      <td>20.00000</td>\n",
       "      <td>5242.000000</td>\n",
       "      <td>690894.000000</td>\n",
       "      <td>55.960690</td>\n",
       "      <td>37.624055</td>\n",
       "      <td>55.962020</td>\n",
       "      <td>37.624326</td>\n",
       "      <td>30.585000</td>\n",
       "      <td>37.817000</td>\n",
       "      <td>1.000000</td>\n",
       "    </tr>\n",
       "    <tr>\n",
       "      <th>max</th>\n",
       "      <td>1.130355e+06</td>\n",
       "      <td>6.000000</td>\n",
       "      <td>23.00000</td>\n",
       "      <td>6806.000000</td>\n",
       "      <td>920344.000000</td>\n",
       "      <td>56.174097</td>\n",
       "      <td>38.280547</td>\n",
       "      <td>56.311121</td>\n",
       "      <td>38.243608</td>\n",
       "      <td>154.399000</td>\n",
       "      <td>139.500000</td>\n",
       "      <td>1.000000</td>\n",
       "    </tr>\n",
       "  </tbody>\n",
       "</table>\n",
       "</div>"
      ],
      "text/plain": [
       "           offer_gk   weekday_key     hour_key     driver_gk       order_gk  \\\n",
       "count  9.992500e+04  99925.000000  99925.00000  99925.000000   99925.000000   \n",
       "mean   5.662353e+05      3.159480     13.82697   3446.234556  460867.680560   \n",
       "std    3.259377e+05      2.054282      7.30722   2038.724365  266056.473936   \n",
       "min    4.000000e+00      0.000000      0.00000     14.000000      18.000000   \n",
       "25%    2.855610e+05      1.000000      8.00000   1421.000000  229181.000000   \n",
       "50%    5.657090e+05      3.000000     16.00000   3507.000000  462420.000000   \n",
       "75%    8.487470e+05      5.000000     20.00000   5242.000000  690894.000000   \n",
       "max    1.130355e+06      6.000000     23.00000   6806.000000  920344.000000   \n",
       "\n",
       "       driver_latitude  driver_longitude  origin_order_latitude  \\\n",
       "count     99925.000000      99925.000000           99925.000000   \n",
       "mean         55.700847         37.492180              55.772518   \n",
       "std           2.136699          1.455170               0.666212   \n",
       "min          -1.000000         -1.000000              -1.000000   \n",
       "25%          55.708711         37.413497              55.708127   \n",
       "50%          55.772948         37.533589              55.772562   \n",
       "75%          55.960690         37.624055              55.962020   \n",
       "max          56.174097         38.280547              56.311121   \n",
       "\n",
       "       origin_order_longitude   distance_km  duration_min  driver_response  \n",
       "count            99925.000000  99925.000000  99925.000000     99925.000000  \n",
       "mean                37.541561     17.757299     22.658336         0.492329  \n",
       "std                  0.467893     20.270671     20.760357         0.499944  \n",
       "min                 -1.000000     -1.000000     -1.000000         0.000000  \n",
       "25%                 37.407117     -1.000000     -1.000000         0.000000  \n",
       "50%                 37.532490     10.395000     19.683000         0.000000  \n",
       "75%                 37.624326     30.585000     37.817000         1.000000  \n",
       "max                 38.243608    154.399000    139.500000         1.000000  "
      ]
     },
     "execution_count": 25,
     "metadata": {},
     "output_type": "execute_result"
    }
   ],
   "source": [
    "data.describe()"
   ]
  },
  {
   "cell_type": "markdown",
   "metadata": {},
   "source": [
    "Максимальное значение у переменной duration_min после удаления длительных поездок стало адекватным (чуть больше 2 часов)."
   ]
  },
  {
   "cell_type": "markdown",
   "metadata": {},
   "source": [
    "Удалим значения -1 у следующих переменных:"
   ]
  },
  {
   "cell_type": "code",
   "execution_count": 26,
   "metadata": {},
   "outputs": [],
   "source": [
    "data = data[data.driver_latitude != -1]"
   ]
  },
  {
   "cell_type": "code",
   "execution_count": 27,
   "metadata": {},
   "outputs": [],
   "source": [
    "data = data[data.driver_longitude != -1]"
   ]
  },
  {
   "cell_type": "code",
   "execution_count": 28,
   "metadata": {},
   "outputs": [],
   "source": [
    "data = data[data.origin_order_latitude != -1]"
   ]
  },
  {
   "cell_type": "code",
   "execution_count": 29,
   "metadata": {},
   "outputs": [],
   "source": [
    "data = data[data.origin_order_longitude != -1]"
   ]
  },
  {
   "cell_type": "code",
   "execution_count": 30,
   "metadata": {},
   "outputs": [],
   "source": [
    "data = data[data.distance_km != -1]"
   ]
  },
  {
   "cell_type": "code",
   "execution_count": 31,
   "metadata": {},
   "outputs": [],
   "source": [
    "data = data[data.duration_min != -1]"
   ]
  },
  {
   "cell_type": "code",
   "execution_count": 32,
   "metadata": {},
   "outputs": [
    {
     "data": {
      "text/html": [
       "<div>\n",
       "<style scoped>\n",
       "    .dataframe tbody tr th:only-of-type {\n",
       "        vertical-align: middle;\n",
       "    }\n",
       "\n",
       "    .dataframe tbody tr th {\n",
       "        vertical-align: top;\n",
       "    }\n",
       "\n",
       "    .dataframe thead th {\n",
       "        text-align: right;\n",
       "    }\n",
       "</style>\n",
       "<table border=\"1\" class=\"dataframe\">\n",
       "  <thead>\n",
       "    <tr style=\"text-align: right;\">\n",
       "      <th></th>\n",
       "      <th>offer_gk</th>\n",
       "      <th>weekday_key</th>\n",
       "      <th>hour_key</th>\n",
       "      <th>driver_gk</th>\n",
       "      <th>order_gk</th>\n",
       "      <th>driver_latitude</th>\n",
       "      <th>driver_longitude</th>\n",
       "      <th>origin_order_latitude</th>\n",
       "      <th>origin_order_longitude</th>\n",
       "      <th>distance_km</th>\n",
       "      <th>duration_min</th>\n",
       "      <th>driver_response</th>\n",
       "    </tr>\n",
       "  </thead>\n",
       "  <tbody>\n",
       "    <tr>\n",
       "      <th>count</th>\n",
       "      <td>7.368900e+04</td>\n",
       "      <td>73689.000000</td>\n",
       "      <td>73689.000000</td>\n",
       "      <td>73689.000000</td>\n",
       "      <td>73689.000000</td>\n",
       "      <td>73689.000000</td>\n",
       "      <td>73689.000000</td>\n",
       "      <td>73689.000000</td>\n",
       "      <td>73689.000000</td>\n",
       "      <td>73689.000000</td>\n",
       "      <td>73689.000000</td>\n",
       "      <td>73689.000000</td>\n",
       "    </tr>\n",
       "    <tr>\n",
       "      <th>mean</th>\n",
       "      <td>5.658031e+05</td>\n",
       "      <td>3.149751</td>\n",
       "      <td>13.799631</td>\n",
       "      <td>3461.226560</td>\n",
       "      <td>461945.906648</td>\n",
       "      <td>55.780157</td>\n",
       "      <td>37.545895</td>\n",
       "      <td>55.780255</td>\n",
       "      <td>37.546065</td>\n",
       "      <td>24.420378</td>\n",
       "      <td>31.064678</td>\n",
       "      <td>0.471400</td>\n",
       "    </tr>\n",
       "    <tr>\n",
       "      <th>std</th>\n",
       "      <td>3.262802e+05</td>\n",
       "      <td>2.078345</td>\n",
       "      <td>7.317082</td>\n",
       "      <td>2038.981905</td>\n",
       "      <td>266082.159956</td>\n",
       "      <td>0.258745</td>\n",
       "      <td>0.211650</td>\n",
       "      <td>0.159509</td>\n",
       "      <td>0.163001</td>\n",
       "      <td>19.676704</td>\n",
       "      <td>17.729262</td>\n",
       "      <td>0.499185</td>\n",
       "    </tr>\n",
       "    <tr>\n",
       "      <th>min</th>\n",
       "      <td>4.000000e+00</td>\n",
       "      <td>0.000000</td>\n",
       "      <td>0.000000</td>\n",
       "      <td>14.000000</td>\n",
       "      <td>27.000000</td>\n",
       "      <td>0.000000</td>\n",
       "      <td>0.000000</td>\n",
       "      <td>55.342523</td>\n",
       "      <td>36.994072</td>\n",
       "      <td>0.000000</td>\n",
       "      <td>0.000000</td>\n",
       "      <td>0.000000</td>\n",
       "    </tr>\n",
       "    <tr>\n",
       "      <th>25%</th>\n",
       "      <td>2.849050e+05</td>\n",
       "      <td>1.000000</td>\n",
       "      <td>8.000000</td>\n",
       "      <td>1421.000000</td>\n",
       "      <td>230773.000000</td>\n",
       "      <td>55.705900</td>\n",
       "      <td>37.413468</td>\n",
       "      <td>55.705657</td>\n",
       "      <td>37.407117</td>\n",
       "      <td>7.894000</td>\n",
       "      <td>16.550000</td>\n",
       "      <td>0.000000</td>\n",
       "    </tr>\n",
       "    <tr>\n",
       "      <th>50%</th>\n",
       "      <td>5.648580e+05</td>\n",
       "      <td>3.000000</td>\n",
       "      <td>16.000000</td>\n",
       "      <td>3507.000000</td>\n",
       "      <td>463102.000000</td>\n",
       "      <td>55.774854</td>\n",
       "      <td>37.528298</td>\n",
       "      <td>55.775066</td>\n",
       "      <td>37.527187</td>\n",
       "      <td>18.580000</td>\n",
       "      <td>28.167000</td>\n",
       "      <td>0.000000</td>\n",
       "    </tr>\n",
       "    <tr>\n",
       "      <th>75%</th>\n",
       "      <td>8.496250e+05</td>\n",
       "      <td>5.000000</td>\n",
       "      <td>20.000000</td>\n",
       "      <td>5246.000000</td>\n",
       "      <td>692512.000000</td>\n",
       "      <td>55.961104</td>\n",
       "      <td>37.625582</td>\n",
       "      <td>55.962322</td>\n",
       "      <td>37.625333</td>\n",
       "      <td>38.679000</td>\n",
       "      <td>44.283000</td>\n",
       "      <td>1.000000</td>\n",
       "    </tr>\n",
       "    <tr>\n",
       "      <th>max</th>\n",
       "      <td>1.130355e+06</td>\n",
       "      <td>6.000000</td>\n",
       "      <td>23.000000</td>\n",
       "      <td>6806.000000</td>\n",
       "      <td>920344.000000</td>\n",
       "      <td>56.018542</td>\n",
       "      <td>38.232760</td>\n",
       "      <td>56.025061</td>\n",
       "      <td>38.204119</td>\n",
       "      <td>154.399000</td>\n",
       "      <td>139.500000</td>\n",
       "      <td>1.000000</td>\n",
       "    </tr>\n",
       "  </tbody>\n",
       "</table>\n",
       "</div>"
      ],
      "text/plain": [
       "           offer_gk   weekday_key      hour_key     driver_gk       order_gk  \\\n",
       "count  7.368900e+04  73689.000000  73689.000000  73689.000000   73689.000000   \n",
       "mean   5.658031e+05      3.149751     13.799631   3461.226560  461945.906648   \n",
       "std    3.262802e+05      2.078345      7.317082   2038.981905  266082.159956   \n",
       "min    4.000000e+00      0.000000      0.000000     14.000000      27.000000   \n",
       "25%    2.849050e+05      1.000000      8.000000   1421.000000  230773.000000   \n",
       "50%    5.648580e+05      3.000000     16.000000   3507.000000  463102.000000   \n",
       "75%    8.496250e+05      5.000000     20.000000   5246.000000  692512.000000   \n",
       "max    1.130355e+06      6.000000     23.000000   6806.000000  920344.000000   \n",
       "\n",
       "       driver_latitude  driver_longitude  origin_order_latitude  \\\n",
       "count     73689.000000      73689.000000           73689.000000   \n",
       "mean         55.780157         37.545895              55.780255   \n",
       "std           0.258745          0.211650               0.159509   \n",
       "min           0.000000          0.000000              55.342523   \n",
       "25%          55.705900         37.413468              55.705657   \n",
       "50%          55.774854         37.528298              55.775066   \n",
       "75%          55.961104         37.625582              55.962322   \n",
       "max          56.018542         38.232760              56.025061   \n",
       "\n",
       "       origin_order_longitude   distance_km  duration_min  driver_response  \n",
       "count            73689.000000  73689.000000  73689.000000     73689.000000  \n",
       "mean                37.546065     24.420378     31.064678         0.471400  \n",
       "std                  0.163001     19.676704     17.729262         0.499185  \n",
       "min                 36.994072      0.000000      0.000000         0.000000  \n",
       "25%                 37.407117      7.894000     16.550000         0.000000  \n",
       "50%                 37.527187     18.580000     28.167000         0.000000  \n",
       "75%                 37.625333     38.679000     44.283000         1.000000  \n",
       "max                 38.204119    154.399000    139.500000         1.000000  "
      ]
     },
     "execution_count": 32,
     "metadata": {},
     "output_type": "execute_result"
    }
   ],
   "source": [
    "data.describe()"
   ]
  },
  {
   "cell_type": "markdown",
   "metadata": {},
   "source": [
    "Остались нулевые значения, что тоже не хорошо. Удалим и их."
   ]
  },
  {
   "cell_type": "code",
   "execution_count": 33,
   "metadata": {},
   "outputs": [],
   "source": [
    "data = data[data.driver_latitude != 0]"
   ]
  },
  {
   "cell_type": "code",
   "execution_count": 34,
   "metadata": {},
   "outputs": [],
   "source": [
    "data = data[data.driver_longitude != 0]"
   ]
  },
  {
   "cell_type": "code",
   "execution_count": 35,
   "metadata": {},
   "outputs": [],
   "source": [
    "data = data[data.distance_km != 0]"
   ]
  },
  {
   "cell_type": "code",
   "execution_count": 36,
   "metadata": {},
   "outputs": [],
   "source": [
    "data = data[data.duration_min != 0]"
   ]
  },
  {
   "cell_type": "code",
   "execution_count": 37,
   "metadata": {},
   "outputs": [
    {
     "data": {
      "text/html": [
       "<div>\n",
       "<style scoped>\n",
       "    .dataframe tbody tr th:only-of-type {\n",
       "        vertical-align: middle;\n",
       "    }\n",
       "\n",
       "    .dataframe tbody tr th {\n",
       "        vertical-align: top;\n",
       "    }\n",
       "\n",
       "    .dataframe thead th {\n",
       "        text-align: right;\n",
       "    }\n",
       "</style>\n",
       "<table border=\"1\" class=\"dataframe\">\n",
       "  <thead>\n",
       "    <tr style=\"text-align: right;\">\n",
       "      <th></th>\n",
       "      <th>offer_gk</th>\n",
       "      <th>weekday_key</th>\n",
       "      <th>hour_key</th>\n",
       "      <th>driver_gk</th>\n",
       "      <th>order_gk</th>\n",
       "      <th>driver_latitude</th>\n",
       "      <th>driver_longitude</th>\n",
       "      <th>origin_order_latitude</th>\n",
       "      <th>origin_order_longitude</th>\n",
       "      <th>distance_km</th>\n",
       "      <th>duration_min</th>\n",
       "      <th>driver_response</th>\n",
       "    </tr>\n",
       "  </thead>\n",
       "  <tbody>\n",
       "    <tr>\n",
       "      <th>count</th>\n",
       "      <td>7.353600e+04</td>\n",
       "      <td>73536.000000</td>\n",
       "      <td>73536.000000</td>\n",
       "      <td>73536.00000</td>\n",
       "      <td>73536.000000</td>\n",
       "      <td>73536.000000</td>\n",
       "      <td>73536.000000</td>\n",
       "      <td>73536.000000</td>\n",
       "      <td>73536.000000</td>\n",
       "      <td>73536.000000</td>\n",
       "      <td>73536.000000</td>\n",
       "      <td>73536.000000</td>\n",
       "    </tr>\n",
       "    <tr>\n",
       "      <th>mean</th>\n",
       "      <td>5.657864e+05</td>\n",
       "      <td>3.149927</td>\n",
       "      <td>13.802858</td>\n",
       "      <td>3461.24913</td>\n",
       "      <td>461945.595599</td>\n",
       "      <td>55.780927</td>\n",
       "      <td>37.546340</td>\n",
       "      <td>55.780272</td>\n",
       "      <td>37.545998</td>\n",
       "      <td>24.470593</td>\n",
       "      <td>31.128558</td>\n",
       "      <td>0.471375</td>\n",
       "    </tr>\n",
       "    <tr>\n",
       "      <th>std</th>\n",
       "      <td>3.262987e+05</td>\n",
       "      <td>2.078241</td>\n",
       "      <td>7.315733</td>\n",
       "      <td>2039.32244</td>\n",
       "      <td>266101.714387</td>\n",
       "      <td>0.157251</td>\n",
       "      <td>0.160186</td>\n",
       "      <td>0.159514</td>\n",
       "      <td>0.162976</td>\n",
       "      <td>19.665654</td>\n",
       "      <td>17.691067</td>\n",
       "      <td>0.499183</td>\n",
       "    </tr>\n",
       "    <tr>\n",
       "      <th>min</th>\n",
       "      <td>4.000000e+00</td>\n",
       "      <td>0.000000</td>\n",
       "      <td>0.000000</td>\n",
       "      <td>14.00000</td>\n",
       "      <td>27.000000</td>\n",
       "      <td>55.367720</td>\n",
       "      <td>36.984771</td>\n",
       "      <td>55.342523</td>\n",
       "      <td>36.994072</td>\n",
       "      <td>0.005000</td>\n",
       "      <td>0.017000</td>\n",
       "      <td>0.000000</td>\n",
       "    </tr>\n",
       "    <tr>\n",
       "      <th>25%</th>\n",
       "      <td>2.848650e+05</td>\n",
       "      <td>1.000000</td>\n",
       "      <td>8.000000</td>\n",
       "      <td>1421.00000</td>\n",
       "      <td>230548.500000</td>\n",
       "      <td>55.705912</td>\n",
       "      <td>37.413468</td>\n",
       "      <td>55.705657</td>\n",
       "      <td>37.407117</td>\n",
       "      <td>7.955000</td>\n",
       "      <td>16.600000</td>\n",
       "      <td>0.000000</td>\n",
       "    </tr>\n",
       "    <tr>\n",
       "      <th>50%</th>\n",
       "      <td>5.648260e+05</td>\n",
       "      <td>3.000000</td>\n",
       "      <td>16.000000</td>\n",
       "      <td>3507.00000</td>\n",
       "      <td>463144.000000</td>\n",
       "      <td>55.774885</td>\n",
       "      <td>37.528224</td>\n",
       "      <td>55.775078</td>\n",
       "      <td>37.527116</td>\n",
       "      <td>18.630000</td>\n",
       "      <td>28.200000</td>\n",
       "      <td>0.000000</td>\n",
       "    </tr>\n",
       "    <tr>\n",
       "      <th>75%</th>\n",
       "      <td>8.496432e+05</td>\n",
       "      <td>5.000000</td>\n",
       "      <td>20.000000</td>\n",
       "      <td>5246.00000</td>\n",
       "      <td>692516.750000</td>\n",
       "      <td>55.961104</td>\n",
       "      <td>37.625532</td>\n",
       "      <td>55.962322</td>\n",
       "      <td>37.625295</td>\n",
       "      <td>38.716750</td>\n",
       "      <td>44.317000</td>\n",
       "      <td>1.000000</td>\n",
       "    </tr>\n",
       "    <tr>\n",
       "      <th>max</th>\n",
       "      <td>1.130355e+06</td>\n",
       "      <td>6.000000</td>\n",
       "      <td>23.000000</td>\n",
       "      <td>6806.00000</td>\n",
       "      <td>920344.000000</td>\n",
       "      <td>56.018542</td>\n",
       "      <td>38.232760</td>\n",
       "      <td>56.025061</td>\n",
       "      <td>38.204119</td>\n",
       "      <td>154.399000</td>\n",
       "      <td>139.500000</td>\n",
       "      <td>1.000000</td>\n",
       "    </tr>\n",
       "  </tbody>\n",
       "</table>\n",
       "</div>"
      ],
      "text/plain": [
       "           offer_gk   weekday_key      hour_key    driver_gk       order_gk  \\\n",
       "count  7.353600e+04  73536.000000  73536.000000  73536.00000   73536.000000   \n",
       "mean   5.657864e+05      3.149927     13.802858   3461.24913  461945.595599   \n",
       "std    3.262987e+05      2.078241      7.315733   2039.32244  266101.714387   \n",
       "min    4.000000e+00      0.000000      0.000000     14.00000      27.000000   \n",
       "25%    2.848650e+05      1.000000      8.000000   1421.00000  230548.500000   \n",
       "50%    5.648260e+05      3.000000     16.000000   3507.00000  463144.000000   \n",
       "75%    8.496432e+05      5.000000     20.000000   5246.00000  692516.750000   \n",
       "max    1.130355e+06      6.000000     23.000000   6806.00000  920344.000000   \n",
       "\n",
       "       driver_latitude  driver_longitude  origin_order_latitude  \\\n",
       "count     73536.000000      73536.000000           73536.000000   \n",
       "mean         55.780927         37.546340              55.780272   \n",
       "std           0.157251          0.160186               0.159514   \n",
       "min          55.367720         36.984771              55.342523   \n",
       "25%          55.705912         37.413468              55.705657   \n",
       "50%          55.774885         37.528224              55.775078   \n",
       "75%          55.961104         37.625532              55.962322   \n",
       "max          56.018542         38.232760              56.025061   \n",
       "\n",
       "       origin_order_longitude   distance_km  duration_min  driver_response  \n",
       "count            73536.000000  73536.000000  73536.000000     73536.000000  \n",
       "mean                37.545998     24.470593     31.128558         0.471375  \n",
       "std                  0.162976     19.665654     17.691067         0.499183  \n",
       "min                 36.994072      0.005000      0.017000         0.000000  \n",
       "25%                 37.407117      7.955000     16.600000         0.000000  \n",
       "50%                 37.527116     18.630000     28.200000         0.000000  \n",
       "75%                 37.625295     38.716750     44.317000         1.000000  \n",
       "max                 38.204119    154.399000    139.500000         1.000000  "
      ]
     },
     "execution_count": 37,
     "metadata": {},
     "output_type": "execute_result"
    }
   ],
   "source": [
    "data.describe()"
   ]
  },
  {
   "cell_type": "markdown",
   "metadata": {},
   "source": [
    "Остались до сих пор какие-то странные значения у переменных distance_km\t и duration_min."
   ]
  },
  {
   "cell_type": "markdown",
   "metadata": {},
   "source": [
    "Построим диаграмму размаха для переменной duration_min:"
   ]
  },
  {
   "cell_type": "code",
   "execution_count": 38,
   "metadata": {},
   "outputs": [
    {
     "data": {
      "image/png": "[encoded data removed]",
      "text/plain": [
       "<Figure size 720x720 with 1 Axes>"
      ]
     },
     "metadata": {
      "needs_background": "light"
     },
     "output_type": "display_data"
    }
   ],
   "source": [
    "plt.rcParams['figure.figsize'] = (10,10)\n",
    "ax = sns.boxplot(y = 'duration_min', data = data)\n",
    "\n",
    "ax.set_xlabel('', fontsize = 10)\n",
    "ax.set_ylabel('duration_min', fontsize = 10)\n",
    "ax.tick_params(labelsize = 10)\n",
    "plt.show()"
   ]
  },
  {
   "cell_type": "code",
   "execution_count": 39,
   "metadata": {},
   "outputs": [
    {
     "data": {
      "text/html": [
       "<div>\n",
       "<style scoped>\n",
       "    .dataframe tbody tr th:only-of-type {\n",
       "        vertical-align: middle;\n",
       "    }\n",
       "\n",
       "    .dataframe tbody tr th {\n",
       "        vertical-align: top;\n",
       "    }\n",
       "\n",
       "    .dataframe thead th {\n",
       "        text-align: right;\n",
       "    }\n",
       "</style>\n",
       "<table border=\"1\" class=\"dataframe\">\n",
       "  <thead>\n",
       "    <tr style=\"text-align: right;\">\n",
       "      <th></th>\n",
       "      <th>offer_gk</th>\n",
       "      <th>weekday_key</th>\n",
       "      <th>hour_key</th>\n",
       "      <th>driver_gk</th>\n",
       "      <th>order_gk</th>\n",
       "      <th>driver_latitude</th>\n",
       "      <th>driver_longitude</th>\n",
       "      <th>origin_order_latitude</th>\n",
       "      <th>origin_order_longitude</th>\n",
       "      <th>distance_km</th>\n",
       "      <th>duration_min</th>\n",
       "      <th>offer_class_group</th>\n",
       "      <th>ride_type_desc</th>\n",
       "      <th>driver_response</th>\n",
       "    </tr>\n",
       "  </thead>\n",
       "  <tbody>\n",
       "    <tr>\n",
       "      <th>2058</th>\n",
       "      <td>760233</td>\n",
       "      <td>6</td>\n",
       "      <td>8</td>\n",
       "      <td>6792</td>\n",
       "      <td>411127</td>\n",
       "      <td>55.679458</td>\n",
       "      <td>37.284917</td>\n",
       "      <td>55.680331</td>\n",
       "      <td>37.295098</td>\n",
       "      <td>0.176</td>\n",
       "      <td>1.250</td>\n",
       "      <td>Standard</td>\n",
       "      <td>private</td>\n",
       "      <td>0</td>\n",
       "    </tr>\n",
       "    <tr>\n",
       "      <th>3409</th>\n",
       "      <td>487827</td>\n",
       "      <td>1</td>\n",
       "      <td>15</td>\n",
       "      <td>4269</td>\n",
       "      <td>542620</td>\n",
       "      <td>55.914972</td>\n",
       "      <td>37.868923</td>\n",
       "      <td>55.914829</td>\n",
       "      <td>37.869094</td>\n",
       "      <td>0.265</td>\n",
       "      <td>0.817</td>\n",
       "      <td>Standard</td>\n",
       "      <td>private</td>\n",
       "      <td>1</td>\n",
       "    </tr>\n",
       "    <tr>\n",
       "      <th>4660</th>\n",
       "      <td>876413</td>\n",
       "      <td>5</td>\n",
       "      <td>16</td>\n",
       "      <td>5187</td>\n",
       "      <td>752269</td>\n",
       "      <td>55.815405</td>\n",
       "      <td>37.706874</td>\n",
       "      <td>55.814097</td>\n",
       "      <td>37.717302</td>\n",
       "      <td>0.172</td>\n",
       "      <td>0.917</td>\n",
       "      <td>Economy</td>\n",
       "      <td>private</td>\n",
       "      <td>1</td>\n",
       "    </tr>\n",
       "    <tr>\n",
       "      <th>4752</th>\n",
       "      <td>784077</td>\n",
       "      <td>4</td>\n",
       "      <td>18</td>\n",
       "      <td>5187</td>\n",
       "      <td>870684</td>\n",
       "      <td>55.815605</td>\n",
       "      <td>37.706511</td>\n",
       "      <td>55.820014</td>\n",
       "      <td>37.707385</td>\n",
       "      <td>0.157</td>\n",
       "      <td>1.417</td>\n",
       "      <td>Standard</td>\n",
       "      <td>private</td>\n",
       "      <td>0</td>\n",
       "    </tr>\n",
       "    <tr>\n",
       "      <th>5636</th>\n",
       "      <td>458165</td>\n",
       "      <td>2</td>\n",
       "      <td>1</td>\n",
       "      <td>3842</td>\n",
       "      <td>857742</td>\n",
       "      <td>55.815721</td>\n",
       "      <td>37.341543</td>\n",
       "      <td>55.833015</td>\n",
       "      <td>37.347860</td>\n",
       "      <td>0.374</td>\n",
       "      <td>1.150</td>\n",
       "      <td>Economy</td>\n",
       "      <td>private</td>\n",
       "      <td>1</td>\n",
       "    </tr>\n",
       "    <tr>\n",
       "      <th>...</th>\n",
       "      <td>...</td>\n",
       "      <td>...</td>\n",
       "      <td>...</td>\n",
       "      <td>...</td>\n",
       "      <td>...</td>\n",
       "      <td>...</td>\n",
       "      <td>...</td>\n",
       "      <td>...</td>\n",
       "      <td>...</td>\n",
       "      <td>...</td>\n",
       "      <td>...</td>\n",
       "      <td>...</td>\n",
       "      <td>...</td>\n",
       "      <td>...</td>\n",
       "    </tr>\n",
       "    <tr>\n",
       "      <th>87777</th>\n",
       "      <td>150386</td>\n",
       "      <td>5</td>\n",
       "      <td>8</td>\n",
       "      <td>6645</td>\n",
       "      <td>494585</td>\n",
       "      <td>55.685244</td>\n",
       "      <td>37.262108</td>\n",
       "      <td>55.669247</td>\n",
       "      <td>37.255974</td>\n",
       "      <td>0.893</td>\n",
       "      <td>1.850</td>\n",
       "      <td>Economy</td>\n",
       "      <td>private</td>\n",
       "      <td>0</td>\n",
       "    </tr>\n",
       "    <tr>\n",
       "      <th>88057</th>\n",
       "      <td>70371</td>\n",
       "      <td>3</td>\n",
       "      <td>17</td>\n",
       "      <td>6806</td>\n",
       "      <td>552410</td>\n",
       "      <td>55.680064</td>\n",
       "      <td>37.664809</td>\n",
       "      <td>55.682703</td>\n",
       "      <td>37.661768</td>\n",
       "      <td>0.139</td>\n",
       "      <td>0.867</td>\n",
       "      <td>Economy</td>\n",
       "      <td>private</td>\n",
       "      <td>0</td>\n",
       "    </tr>\n",
       "    <tr>\n",
       "      <th>92649</th>\n",
       "      <td>767295</td>\n",
       "      <td>4</td>\n",
       "      <td>19</td>\n",
       "      <td>4998</td>\n",
       "      <td>574206</td>\n",
       "      <td>55.799811</td>\n",
       "      <td>37.303643</td>\n",
       "      <td>55.804719</td>\n",
       "      <td>37.311626</td>\n",
       "      <td>0.056</td>\n",
       "      <td>0.133</td>\n",
       "      <td>Economy</td>\n",
       "      <td>private</td>\n",
       "      <td>0</td>\n",
       "    </tr>\n",
       "    <tr>\n",
       "      <th>93982</th>\n",
       "      <td>414446</td>\n",
       "      <td>2</td>\n",
       "      <td>17</td>\n",
       "      <td>4002</td>\n",
       "      <td>504611</td>\n",
       "      <td>55.892719</td>\n",
       "      <td>37.673594</td>\n",
       "      <td>55.886225</td>\n",
       "      <td>37.648417</td>\n",
       "      <td>0.393</td>\n",
       "      <td>1.967</td>\n",
       "      <td>Economy</td>\n",
       "      <td>private</td>\n",
       "      <td>1</td>\n",
       "    </tr>\n",
       "    <tr>\n",
       "      <th>97161</th>\n",
       "      <td>403310</td>\n",
       "      <td>0</td>\n",
       "      <td>0</td>\n",
       "      <td>6302</td>\n",
       "      <td>730575</td>\n",
       "      <td>55.964894</td>\n",
       "      <td>37.413532</td>\n",
       "      <td>55.966694</td>\n",
       "      <td>37.415754</td>\n",
       "      <td>0.020</td>\n",
       "      <td>0.083</td>\n",
       "      <td>Economy</td>\n",
       "      <td>private</td>\n",
       "      <td>1</td>\n",
       "    </tr>\n",
       "  </tbody>\n",
       "</table>\n",
       "<p>65 rows × 14 columns</p>\n",
       "</div>"
      ],
      "text/plain": [
       "       offer_gk  weekday_key  hour_key  driver_gk  order_gk  driver_latitude  \\\n",
       "2058     760233            6         8       6792    411127        55.679458   \n",
       "3409     487827            1        15       4269    542620        55.914972   \n",
       "4660     876413            5        16       5187    752269        55.815405   \n",
       "4752     784077            4        18       5187    870684        55.815605   \n",
       "5636     458165            2         1       3842    857742        55.815721   \n",
       "...         ...          ...       ...        ...       ...              ...   \n",
       "87777    150386            5         8       6645    494585        55.685244   \n",
       "88057     70371            3        17       6806    552410        55.680064   \n",
       "92649    767295            4        19       4998    574206        55.799811   \n",
       "93982    414446            2        17       4002    504611        55.892719   \n",
       "97161    403310            0         0       6302    730575        55.964894   \n",
       "\n",
       "       driver_longitude  origin_order_latitude  origin_order_longitude  \\\n",
       "2058          37.284917              55.680331               37.295098   \n",
       "3409          37.868923              55.914829               37.869094   \n",
       "4660          37.706874              55.814097               37.717302   \n",
       "4752          37.706511              55.820014               37.707385   \n",
       "5636          37.341543              55.833015               37.347860   \n",
       "...                 ...                    ...                     ...   \n",
       "87777         37.262108              55.669247               37.255974   \n",
       "88057         37.664809              55.682703               37.661768   \n",
       "92649         37.303643              55.804719               37.311626   \n",
       "93982         37.673594              55.886225               37.648417   \n",
       "97161         37.413532              55.966694               37.415754   \n",
       "\n",
       "       distance_km  duration_min offer_class_group ride_type_desc  \\\n",
       "2058         0.176         1.250          Standard        private   \n",
       "3409         0.265         0.817          Standard        private   \n",
       "4660         0.172         0.917           Economy        private   \n",
       "4752         0.157         1.417          Standard        private   \n",
       "5636         0.374         1.150           Economy        private   \n",
       "...            ...           ...               ...            ...   \n",
       "87777        0.893         1.850           Economy        private   \n",
       "88057        0.139         0.867           Economy        private   \n",
       "92649        0.056         0.133           Economy        private   \n",
       "93982        0.393         1.967           Economy        private   \n",
       "97161        0.020         0.083           Economy        private   \n",
       "\n",
       "       driver_response  \n",
       "2058                 0  \n",
       "3409                 1  \n",
       "4660                 1  \n",
       "4752                 0  \n",
       "5636                 1  \n",
       "...                ...  \n",
       "87777                0  \n",
       "88057                0  \n",
       "92649                0  \n",
       "93982                1  \n",
       "97161                1  \n",
       "\n",
       "[65 rows x 14 columns]"
      ]
     },
     "execution_count": 39,
     "metadata": {},
     "output_type": "execute_result"
    }
   ],
   "source": [
    "data[data.duration_min < 2]"
   ]
  },
  {
   "cell_type": "markdown",
   "metadata": {},
   "source": [
    "Будем считать, что поездка не может длиться меньше 2 минут. Удалим странные значения."
   ]
  },
  {
   "cell_type": "code",
   "execution_count": 40,
   "metadata": {},
   "outputs": [],
   "source": [
    "data = data[data.duration_min >= 2]"
   ]
  },
  {
   "cell_type": "code",
   "execution_count": 41,
   "metadata": {},
   "outputs": [
    {
     "data": {
      "text/html": [
       "<div>\n",
       "<style scoped>\n",
       "    .dataframe tbody tr th:only-of-type {\n",
       "        vertical-align: middle;\n",
       "    }\n",
       "\n",
       "    .dataframe tbody tr th {\n",
       "        vertical-align: top;\n",
       "    }\n",
       "\n",
       "    .dataframe thead th {\n",
       "        text-align: right;\n",
       "    }\n",
       "</style>\n",
       "<table border=\"1\" class=\"dataframe\">\n",
       "  <thead>\n",
       "    <tr style=\"text-align: right;\">\n",
       "      <th></th>\n",
       "      <th>offer_gk</th>\n",
       "      <th>weekday_key</th>\n",
       "      <th>hour_key</th>\n",
       "      <th>driver_gk</th>\n",
       "      <th>order_gk</th>\n",
       "      <th>driver_latitude</th>\n",
       "      <th>driver_longitude</th>\n",
       "      <th>origin_order_latitude</th>\n",
       "      <th>origin_order_longitude</th>\n",
       "      <th>distance_km</th>\n",
       "      <th>duration_min</th>\n",
       "      <th>driver_response</th>\n",
       "    </tr>\n",
       "  </thead>\n",
       "  <tbody>\n",
       "    <tr>\n",
       "      <th>count</th>\n",
       "      <td>7.347100e+04</td>\n",
       "      <td>73471.000000</td>\n",
       "      <td>73471.000000</td>\n",
       "      <td>73471.000000</td>\n",
       "      <td>73471.000000</td>\n",
       "      <td>73471.000000</td>\n",
       "      <td>73471.000000</td>\n",
       "      <td>73471.000000</td>\n",
       "      <td>73471.000000</td>\n",
       "      <td>73471.000000</td>\n",
       "      <td>73471.000000</td>\n",
       "      <td>73471.000000</td>\n",
       "    </tr>\n",
       "    <tr>\n",
       "      <th>mean</th>\n",
       "      <td>5.657926e+05</td>\n",
       "      <td>3.149773</td>\n",
       "      <td>13.804603</td>\n",
       "      <td>3460.718351</td>\n",
       "      <td>461929.217814</td>\n",
       "      <td>55.780926</td>\n",
       "      <td>37.546349</td>\n",
       "      <td>55.780271</td>\n",
       "      <td>37.546006</td>\n",
       "      <td>24.492011</td>\n",
       "      <td>31.155319</td>\n",
       "      <td>0.471274</td>\n",
       "    </tr>\n",
       "    <tr>\n",
       "      <th>std</th>\n",
       "      <td>3.263021e+05</td>\n",
       "      <td>2.078269</td>\n",
       "      <td>7.314928</td>\n",
       "      <td>2039.136489</td>\n",
       "      <td>266110.381224</td>\n",
       "      <td>0.157286</td>\n",
       "      <td>0.160196</td>\n",
       "      <td>0.159550</td>\n",
       "      <td>0.162986</td>\n",
       "      <td>19.661156</td>\n",
       "      <td>17.675978</td>\n",
       "      <td>0.499178</td>\n",
       "    </tr>\n",
       "    <tr>\n",
       "      <th>min</th>\n",
       "      <td>4.000000e+00</td>\n",
       "      <td>0.000000</td>\n",
       "      <td>0.000000</td>\n",
       "      <td>14.000000</td>\n",
       "      <td>27.000000</td>\n",
       "      <td>55.367720</td>\n",
       "      <td>36.984771</td>\n",
       "      <td>55.342523</td>\n",
       "      <td>36.994072</td>\n",
       "      <td>0.238000</td>\n",
       "      <td>2.000000</td>\n",
       "      <td>0.000000</td>\n",
       "    </tr>\n",
       "    <tr>\n",
       "      <th>25%</th>\n",
       "      <td>2.848640e+05</td>\n",
       "      <td>1.000000</td>\n",
       "      <td>8.000000</td>\n",
       "      <td>1421.000000</td>\n",
       "      <td>230544.000000</td>\n",
       "      <td>55.705917</td>\n",
       "      <td>37.413468</td>\n",
       "      <td>55.705657</td>\n",
       "      <td>37.407117</td>\n",
       "      <td>7.972000</td>\n",
       "      <td>16.633000</td>\n",
       "      <td>0.000000</td>\n",
       "    </tr>\n",
       "    <tr>\n",
       "      <th>50%</th>\n",
       "      <td>5.648310e+05</td>\n",
       "      <td>3.000000</td>\n",
       "      <td>16.000000</td>\n",
       "      <td>3507.000000</td>\n",
       "      <td>463039.000000</td>\n",
       "      <td>55.774893</td>\n",
       "      <td>37.528211</td>\n",
       "      <td>55.775078</td>\n",
       "      <td>37.527111</td>\n",
       "      <td>18.657000</td>\n",
       "      <td>28.217000</td>\n",
       "      <td>0.000000</td>\n",
       "    </tr>\n",
       "    <tr>\n",
       "      <th>75%</th>\n",
       "      <td>8.496550e+05</td>\n",
       "      <td>5.000000</td>\n",
       "      <td>20.000000</td>\n",
       "      <td>5246.000000</td>\n",
       "      <td>692512.000000</td>\n",
       "      <td>55.961106</td>\n",
       "      <td>37.625518</td>\n",
       "      <td>55.962322</td>\n",
       "      <td>37.625287</td>\n",
       "      <td>38.731000</td>\n",
       "      <td>44.333000</td>\n",
       "      <td>1.000000</td>\n",
       "    </tr>\n",
       "    <tr>\n",
       "      <th>max</th>\n",
       "      <td>1.130355e+06</td>\n",
       "      <td>6.000000</td>\n",
       "      <td>23.000000</td>\n",
       "      <td>6806.000000</td>\n",
       "      <td>920344.000000</td>\n",
       "      <td>56.018542</td>\n",
       "      <td>38.232760</td>\n",
       "      <td>56.025061</td>\n",
       "      <td>38.204119</td>\n",
       "      <td>154.399000</td>\n",
       "      <td>139.500000</td>\n",
       "      <td>1.000000</td>\n",
       "    </tr>\n",
       "  </tbody>\n",
       "</table>\n",
       "</div>"
      ],
      "text/plain": [
       "           offer_gk   weekday_key      hour_key     driver_gk       order_gk  \\\n",
       "count  7.347100e+04  73471.000000  73471.000000  73471.000000   73471.000000   \n",
       "mean   5.657926e+05      3.149773     13.804603   3460.718351  461929.217814   \n",
       "std    3.263021e+05      2.078269      7.314928   2039.136489  266110.381224   \n",
       "min    4.000000e+00      0.000000      0.000000     14.000000      27.000000   \n",
       "25%    2.848640e+05      1.000000      8.000000   1421.000000  230544.000000   \n",
       "50%    5.648310e+05      3.000000     16.000000   3507.000000  463039.000000   \n",
       "75%    8.496550e+05      5.000000     20.000000   5246.000000  692512.000000   \n",
       "max    1.130355e+06      6.000000     23.000000   6806.000000  920344.000000   \n",
       "\n",
       "       driver_latitude  driver_longitude  origin_order_latitude  \\\n",
       "count     73471.000000      73471.000000           73471.000000   \n",
       "mean         55.780926         37.546349              55.780271   \n",
       "std           0.157286          0.160196               0.159550   \n",
       "min          55.367720         36.984771              55.342523   \n",
       "25%          55.705917         37.413468              55.705657   \n",
       "50%          55.774893         37.528211              55.775078   \n",
       "75%          55.961106         37.625518              55.962322   \n",
       "max          56.018542         38.232760              56.025061   \n",
       "\n",
       "       origin_order_longitude   distance_km  duration_min  driver_response  \n",
       "count            73471.000000  73471.000000  73471.000000     73471.000000  \n",
       "mean                37.546006     24.492011     31.155319         0.471274  \n",
       "std                  0.162986     19.661156     17.675978         0.499178  \n",
       "min                 36.994072      0.238000      2.000000         0.000000  \n",
       "25%                 37.407117      7.972000     16.633000         0.000000  \n",
       "50%                 37.527111     18.657000     28.217000         0.000000  \n",
       "75%                 37.625287     38.731000     44.333000         1.000000  \n",
       "max                 38.204119    154.399000    139.500000         1.000000  "
      ]
     },
     "execution_count": 41,
     "metadata": {},
     "output_type": "execute_result"
    }
   ],
   "source": [
    "data.describe()"
   ]
  },
  {
   "cell_type": "code",
   "execution_count": 42,
   "metadata": {},
   "outputs": [
    {
     "data": {
      "text/plain": [
       "(73471, 14)"
      ]
     },
     "execution_count": 42,
     "metadata": {},
     "output_type": "execute_result"
    }
   ],
   "source": [
    "data.shape"
   ]
  },
  {
   "cell_type": "code",
   "execution_count": 43,
   "metadata": {},
   "outputs": [],
   "source": [
    "data = data.reset_index()"
   ]
  },
  {
   "cell_type": "markdown",
   "metadata": {},
   "source": [
    "#### <center>4. Преобразование переменных: создание новых признаков"
   ]
  },
  {
   "cell_type": "markdown",
   "metadata": {},
   "source": [
    "Немного географии и тригонометрии:\n",
    "\n",
    "Законы сферической тригонометрии позволяют рассчитывать расстояния между точками, расположенными на сфере.\n",
    "\n",
    "Кратчайшее расстояние между двумя точками на земной поверхности (если принять ее за сферу) определяется зависимостью:\n",
    "\n",
    "cos(d) = sin(φА)·sin(φB) + cos(φА)·cos(φB)·cos(λА − λB),\n",
    "\n",
    "где φА и φB — широты,  \n",
    "λА, λB — долготы данных пунктов,   \n",
    "d — расстояние между пунктами, измеряемое в радианах длиной дуги большого круга земного шара.\n",
    "\n",
    "Расстояние между пунктами, измеряемое в километрах, определяется по формуле:\n",
    "\n",
    "L = d·R,\n",
    "\n",
    "где R = 6371 км — средний радиус земного шара."
   ]
  },
  {
   "cell_type": "markdown",
   "metadata": {},
   "source": [
    "Напишем функцию, которая будет определять расстояние от водителя до заказа по широте и долготе:"
   ]
  },
  {
   "cell_type": "code",
   "execution_count": 44,
   "metadata": {},
   "outputs": [],
   "source": [
    "def det_distance(row):\n",
    "    a_lat = row['driver_latitude'] * np.pi / 180\n",
    "    b_lat = row['origin_order_latitude'] * np.pi / 180\n",
    "    a_long = row['driver_longitude'] * np.pi / 180\n",
    "    b_long = row['origin_order_longitude'] * np.pi / 180\n",
    "    \n",
    "    cos_d = np.sin(a_lat) * np.sin(b_lat) + np.cos(a_lat) * np.cos(b_lat) * np.cos((a_long - b_long)) \n",
    "    if cos_d < -1:\n",
    "        cos_d = -1\n",
    "    elif cos_d > 1:\n",
    "        cos_d = 1\n",
    "        \n",
    "    distance = np.arccos(cos_d) * 6371\n",
    "    \n",
    "    return distance"
   ]
  },
  {
   "cell_type": "code",
   "execution_count": 45,
   "metadata": {},
   "outputs": [],
   "source": [
    "data['distance'] = data.apply(det_distance, axis = 1)"
   ]
  },
  {
   "cell_type": "code",
   "execution_count": 46,
   "metadata": {},
   "outputs": [
    {
     "data": {
      "text/html": [
       "<div>\n",
       "<style scoped>\n",
       "    .dataframe tbody tr th:only-of-type {\n",
       "        vertical-align: middle;\n",
       "    }\n",
       "\n",
       "    .dataframe tbody tr th {\n",
       "        vertical-align: top;\n",
       "    }\n",
       "\n",
       "    .dataframe thead th {\n",
       "        text-align: right;\n",
       "    }\n",
       "</style>\n",
       "<table border=\"1\" class=\"dataframe\">\n",
       "  <thead>\n",
       "    <tr style=\"text-align: right;\">\n",
       "      <th></th>\n",
       "      <th>index</th>\n",
       "      <th>offer_gk</th>\n",
       "      <th>weekday_key</th>\n",
       "      <th>hour_key</th>\n",
       "      <th>driver_gk</th>\n",
       "      <th>order_gk</th>\n",
       "      <th>driver_latitude</th>\n",
       "      <th>driver_longitude</th>\n",
       "      <th>origin_order_latitude</th>\n",
       "      <th>origin_order_longitude</th>\n",
       "      <th>distance_km</th>\n",
       "      <th>duration_min</th>\n",
       "      <th>offer_class_group</th>\n",
       "      <th>ride_type_desc</th>\n",
       "      <th>driver_response</th>\n",
       "      <th>distance</th>\n",
       "    </tr>\n",
       "  </thead>\n",
       "  <tbody>\n",
       "    <tr>\n",
       "      <th>0</th>\n",
       "      <td>1</td>\n",
       "      <td>759733</td>\n",
       "      <td>5</td>\n",
       "      <td>14</td>\n",
       "      <td>6080</td>\n",
       "      <td>358774</td>\n",
       "      <td>55.805342</td>\n",
       "      <td>37.515023</td>\n",
       "      <td>55.819329</td>\n",
       "      <td>37.466398</td>\n",
       "      <td>18.802</td>\n",
       "      <td>25.217</td>\n",
       "      <td>Standard</td>\n",
       "      <td>private</td>\n",
       "      <td>1</td>\n",
       "      <td>3.413092</td>\n",
       "    </tr>\n",
       "    <tr>\n",
       "      <th>1</th>\n",
       "      <td>2</td>\n",
       "      <td>416977</td>\n",
       "      <td>6</td>\n",
       "      <td>14</td>\n",
       "      <td>6080</td>\n",
       "      <td>866260</td>\n",
       "      <td>55.813978</td>\n",
       "      <td>37.347688</td>\n",
       "      <td>55.814827</td>\n",
       "      <td>37.354074</td>\n",
       "      <td>6.747</td>\n",
       "      <td>9.800</td>\n",
       "      <td>Economy</td>\n",
       "      <td>private</td>\n",
       "      <td>0</td>\n",
       "      <td>0.409999</td>\n",
       "    </tr>\n",
       "    <tr>\n",
       "      <th>2</th>\n",
       "      <td>4</td>\n",
       "      <td>1120055</td>\n",
       "      <td>4</td>\n",
       "      <td>16</td>\n",
       "      <td>6080</td>\n",
       "      <td>506710</td>\n",
       "      <td>55.803578</td>\n",
       "      <td>37.521602</td>\n",
       "      <td>55.812559</td>\n",
       "      <td>37.527407</td>\n",
       "      <td>12.383</td>\n",
       "      <td>19.250</td>\n",
       "      <td>Economy</td>\n",
       "      <td>private</td>\n",
       "      <td>1</td>\n",
       "      <td>1.062481</td>\n",
       "    </tr>\n",
       "  </tbody>\n",
       "</table>\n",
       "</div>"
      ],
      "text/plain": [
       "   index  offer_gk  weekday_key  hour_key  driver_gk  order_gk  \\\n",
       "0      1    759733            5        14       6080    358774   \n",
       "1      2    416977            6        14       6080    866260   \n",
       "2      4   1120055            4        16       6080    506710   \n",
       "\n",
       "   driver_latitude  driver_longitude  origin_order_latitude  \\\n",
       "0        55.805342         37.515023              55.819329   \n",
       "1        55.813978         37.347688              55.814827   \n",
       "2        55.803578         37.521602              55.812559   \n",
       "\n",
       "   origin_order_longitude  distance_km  duration_min offer_class_group  \\\n",
       "0               37.466398       18.802        25.217          Standard   \n",
       "1               37.354074        6.747         9.800           Economy   \n",
       "2               37.527407       12.383        19.250           Economy   \n",
       "\n",
       "  ride_type_desc  driver_response  distance  \n",
       "0        private                1  3.413092  \n",
       "1        private                0  0.409999  \n",
       "2        private                1  1.062481  "
      ]
     },
     "execution_count": 46,
     "metadata": {},
     "output_type": "execute_result"
    }
   ],
   "source": [
    "data.head(3)"
   ]
  },
  {
   "cell_type": "markdown",
   "metadata": {},
   "source": [
    "Попытка создать новую категориальную переменную, которая описывает округ, в котором располагался пассажир в начале поездки. Модель строилась с помощью метода k-средних."
   ]
  },
  {
   "cell_type": "code",
   "execution_count": 47,
   "metadata": {},
   "outputs": [],
   "source": [
    "# Описываем модель\n",
    "model = KMeans(n_clusters = 10)"
   ]
  },
  {
   "cell_type": "code",
   "execution_count": 48,
   "metadata": {},
   "outputs": [],
   "source": [
    "lat_long = data[['origin_order_latitude', 'origin_order_longitude']]"
   ]
  },
  {
   "cell_type": "code",
   "execution_count": 49,
   "metadata": {},
   "outputs": [
    {
     "data": {
      "text/html": [
       "<div>\n",
       "<style scoped>\n",
       "    .dataframe tbody tr th:only-of-type {\n",
       "        vertical-align: middle;\n",
       "    }\n",
       "\n",
       "    .dataframe tbody tr th {\n",
       "        vertical-align: top;\n",
       "    }\n",
       "\n",
       "    .dataframe thead th {\n",
       "        text-align: right;\n",
       "    }\n",
       "</style>\n",
       "<table border=\"1\" class=\"dataframe\">\n",
       "  <thead>\n",
       "    <tr style=\"text-align: right;\">\n",
       "      <th></th>\n",
       "      <th>origin_order_latitude</th>\n",
       "      <th>origin_order_longitude</th>\n",
       "    </tr>\n",
       "  </thead>\n",
       "  <tbody>\n",
       "    <tr>\n",
       "      <th>0</th>\n",
       "      <td>55.819329</td>\n",
       "      <td>37.466398</td>\n",
       "    </tr>\n",
       "    <tr>\n",
       "      <th>1</th>\n",
       "      <td>55.814827</td>\n",
       "      <td>37.354074</td>\n",
       "    </tr>\n",
       "    <tr>\n",
       "      <th>2</th>\n",
       "      <td>55.812559</td>\n",
       "      <td>37.527407</td>\n",
       "    </tr>\n",
       "  </tbody>\n",
       "</table>\n",
       "</div>"
      ],
      "text/plain": [
       "   origin_order_latitude  origin_order_longitude\n",
       "0              55.819329               37.466398\n",
       "1              55.814827               37.354074\n",
       "2              55.812559               37.527407"
      ]
     },
     "execution_count": 49,
     "metadata": {},
     "output_type": "execute_result"
    }
   ],
   "source": [
    "lat_long.head(3)"
   ]
  },
  {
   "cell_type": "code",
   "execution_count": 50,
   "metadata": {},
   "outputs": [
    {
     "data": {
      "image/png": "[encoded data removed]",
      "text/plain": [
       "<Figure size 720x720 with 1 Axes>"
      ]
     },
     "metadata": {
      "needs_background": "light"
     },
     "output_type": "display_data"
    }
   ],
   "source": [
    "order_lat = data['origin_order_latitude']\n",
    "order_long = data['origin_order_longitude']\n",
    "fig, ax = plt.subplots()\n",
    "ax.scatter(order_lat, order_long, c = 'red', alpha = 0.9, edgecolors = 'none')\n",
    "\n",
    "ax.grid(True)\n",
    "plt.xlabel('order_lat', fontsize = 20)\n",
    "plt.ylabel('order_long', fontsize = 20)\n",
    "plt.title('Точечный график двух случайных величин', fontsize = 20)\n",
    "ax.tick_params(labelsize = 10)\n",
    "plt.show()"
   ]
  },
  {
   "cell_type": "code",
   "execution_count": 51,
   "metadata": {},
   "outputs": [
    {
     "data": {
      "text/plain": [
       "KMeans(n_clusters=10)"
      ]
     },
     "execution_count": 51,
     "metadata": {},
     "output_type": "execute_result"
    }
   ],
   "source": [
    "# Проводим моделирование\n",
    "model.fit(lat_long)"
   ]
  },
  {
   "cell_type": "code",
   "execution_count": 52,
   "metadata": {},
   "outputs": [],
   "source": [
    "# Предсказание на всем наборе данных\n",
    "district = model.predict(lat_long)"
   ]
  },
  {
   "cell_type": "code",
   "execution_count": 53,
   "metadata": {},
   "outputs": [],
   "source": [
    "district = pd.DataFrame(district, columns = ['district'])"
   ]
  },
  {
   "cell_type": "code",
   "execution_count": 54,
   "metadata": {},
   "outputs": [],
   "source": [
    "lat_long = lat_long.join(district)"
   ]
  },
  {
   "cell_type": "code",
   "execution_count": 55,
   "metadata": {},
   "outputs": [
    {
     "data": {
      "text/html": [
       "<div>\n",
       "<style scoped>\n",
       "    .dataframe tbody tr th:only-of-type {\n",
       "        vertical-align: middle;\n",
       "    }\n",
       "\n",
       "    .dataframe tbody tr th {\n",
       "        vertical-align: top;\n",
       "    }\n",
       "\n",
       "    .dataframe thead th {\n",
       "        text-align: right;\n",
       "    }\n",
       "</style>\n",
       "<table border=\"1\" class=\"dataframe\">\n",
       "  <thead>\n",
       "    <tr style=\"text-align: right;\">\n",
       "      <th></th>\n",
       "      <th>origin_order_latitude</th>\n",
       "      <th>origin_order_longitude</th>\n",
       "      <th>district</th>\n",
       "    </tr>\n",
       "  </thead>\n",
       "  <tbody>\n",
       "    <tr>\n",
       "      <th>0</th>\n",
       "      <td>55.819329</td>\n",
       "      <td>37.466398</td>\n",
       "      <td>6</td>\n",
       "    </tr>\n",
       "    <tr>\n",
       "      <th>1</th>\n",
       "      <td>55.814827</td>\n",
       "      <td>37.354074</td>\n",
       "      <td>6</td>\n",
       "    </tr>\n",
       "    <tr>\n",
       "      <th>2</th>\n",
       "      <td>55.812559</td>\n",
       "      <td>37.527407</td>\n",
       "      <td>7</td>\n",
       "    </tr>\n",
       "  </tbody>\n",
       "</table>\n",
       "</div>"
      ],
      "text/plain": [
       "   origin_order_latitude  origin_order_longitude  district\n",
       "0              55.819329               37.466398         6\n",
       "1              55.814827               37.354074         6\n",
       "2              55.812559               37.527407         7"
      ]
     },
     "execution_count": 55,
     "metadata": {},
     "output_type": "execute_result"
    }
   ],
   "source": [
    "lat_long.head(3)"
   ]
  },
  {
   "cell_type": "code",
   "execution_count": 56,
   "metadata": {},
   "outputs": [
    {
     "data": {
      "text/plain": [
       "<matplotlib.collections.PathCollection at 0x20559a3fdc8>"
      ]
     },
     "execution_count": 56,
     "metadata": {},
     "output_type": "execute_result"
    },
    {
     "data": {
      "image/png": "[encoded data removed]",
      "text/plain": [
       "<Figure size 720x720 with 1 Axes>"
      ]
     },
     "metadata": {
      "needs_background": "light"
     },
     "output_type": "display_data"
    }
   ],
   "source": [
    "import matplotlib.pyplot as plt\n",
    "import matplotlib.colors as mcolors\n",
    "x = lat_long['origin_order_latitude']\n",
    "y = lat_long['origin_order_longitude']\n",
    "label = lat_long['district']\n",
    "plt.scatter(x, y, \n",
    "            c = label,\n",
    "            cmap = mcolors.ListedColormap(['tab:blue', 'tab:orange', \n",
    "                                           'tab:green', 'tab:red', \n",
    "                                           'tab:purple', 'tab:brown', \n",
    "                                           'tab:pink', 'tab:gray', \n",
    "                                           'tab:olive', 'tab:cyan' ]))"
   ]
  },
  {
   "cell_type": "markdown",
   "metadata": {},
   "source": [
    "Полученный результат кластеризации не совпадает с действительным делением Москвы на округа, тем не менее, целесообразно включение вновь созданной переменной в окончательный набор данных."
   ]
  },
  {
   "cell_type": "code",
   "execution_count": 57,
   "metadata": {},
   "outputs": [],
   "source": [
    "data = data.join(district)"
   ]
  },
  {
   "cell_type": "code",
   "execution_count": 58,
   "metadata": {},
   "outputs": [
    {
     "data": {
      "text/html": [
       "<div>\n",
       "<style scoped>\n",
       "    .dataframe tbody tr th:only-of-type {\n",
       "        vertical-align: middle;\n",
       "    }\n",
       "\n",
       "    .dataframe tbody tr th {\n",
       "        vertical-align: top;\n",
       "    }\n",
       "\n",
       "    .dataframe thead th {\n",
       "        text-align: right;\n",
       "    }\n",
       "</style>\n",
       "<table border=\"1\" class=\"dataframe\">\n",
       "  <thead>\n",
       "    <tr style=\"text-align: right;\">\n",
       "      <th></th>\n",
       "      <th>index</th>\n",
       "      <th>offer_gk</th>\n",
       "      <th>weekday_key</th>\n",
       "      <th>hour_key</th>\n",
       "      <th>driver_gk</th>\n",
       "      <th>order_gk</th>\n",
       "      <th>driver_latitude</th>\n",
       "      <th>driver_longitude</th>\n",
       "      <th>origin_order_latitude</th>\n",
       "      <th>origin_order_longitude</th>\n",
       "      <th>distance_km</th>\n",
       "      <th>duration_min</th>\n",
       "      <th>offer_class_group</th>\n",
       "      <th>ride_type_desc</th>\n",
       "      <th>driver_response</th>\n",
       "      <th>distance</th>\n",
       "      <th>district</th>\n",
       "    </tr>\n",
       "  </thead>\n",
       "  <tbody>\n",
       "    <tr>\n",
       "      <th>0</th>\n",
       "      <td>1</td>\n",
       "      <td>759733</td>\n",
       "      <td>5</td>\n",
       "      <td>14</td>\n",
       "      <td>6080</td>\n",
       "      <td>358774</td>\n",
       "      <td>55.805342</td>\n",
       "      <td>37.515023</td>\n",
       "      <td>55.819329</td>\n",
       "      <td>37.466398</td>\n",
       "      <td>18.802</td>\n",
       "      <td>25.217</td>\n",
       "      <td>Standard</td>\n",
       "      <td>private</td>\n",
       "      <td>1</td>\n",
       "      <td>3.413092</td>\n",
       "      <td>6</td>\n",
       "    </tr>\n",
       "    <tr>\n",
       "      <th>1</th>\n",
       "      <td>2</td>\n",
       "      <td>416977</td>\n",
       "      <td>6</td>\n",
       "      <td>14</td>\n",
       "      <td>6080</td>\n",
       "      <td>866260</td>\n",
       "      <td>55.813978</td>\n",
       "      <td>37.347688</td>\n",
       "      <td>55.814827</td>\n",
       "      <td>37.354074</td>\n",
       "      <td>6.747</td>\n",
       "      <td>9.800</td>\n",
       "      <td>Economy</td>\n",
       "      <td>private</td>\n",
       "      <td>0</td>\n",
       "      <td>0.409999</td>\n",
       "      <td>6</td>\n",
       "    </tr>\n",
       "    <tr>\n",
       "      <th>2</th>\n",
       "      <td>4</td>\n",
       "      <td>1120055</td>\n",
       "      <td>4</td>\n",
       "      <td>16</td>\n",
       "      <td>6080</td>\n",
       "      <td>506710</td>\n",
       "      <td>55.803578</td>\n",
       "      <td>37.521602</td>\n",
       "      <td>55.812559</td>\n",
       "      <td>37.527407</td>\n",
       "      <td>12.383</td>\n",
       "      <td>19.250</td>\n",
       "      <td>Economy</td>\n",
       "      <td>private</td>\n",
       "      <td>1</td>\n",
       "      <td>1.062481</td>\n",
       "      <td>7</td>\n",
       "    </tr>\n",
       "  </tbody>\n",
       "</table>\n",
       "</div>"
      ],
      "text/plain": [
       "   index  offer_gk  weekday_key  hour_key  driver_gk  order_gk  \\\n",
       "0      1    759733            5        14       6080    358774   \n",
       "1      2    416977            6        14       6080    866260   \n",
       "2      4   1120055            4        16       6080    506710   \n",
       "\n",
       "   driver_latitude  driver_longitude  origin_order_latitude  \\\n",
       "0        55.805342         37.515023              55.819329   \n",
       "1        55.813978         37.347688              55.814827   \n",
       "2        55.803578         37.521602              55.812559   \n",
       "\n",
       "   origin_order_longitude  distance_km  duration_min offer_class_group  \\\n",
       "0               37.466398       18.802        25.217          Standard   \n",
       "1               37.354074        6.747         9.800           Economy   \n",
       "2               37.527407       12.383        19.250           Economy   \n",
       "\n",
       "  ride_type_desc  driver_response  distance  district  \n",
       "0        private                1  3.413092         6  \n",
       "1        private                0  0.409999         6  \n",
       "2        private                1  1.062481         7  "
      ]
     },
     "execution_count": 58,
     "metadata": {},
     "output_type": "execute_result"
    }
   ],
   "source": [
    "data.head(3)"
   ]
  },
  {
   "cell_type": "markdown",
   "metadata": {},
   "source": [
    "#### <center>5. Оцените зависимости переменных между собой. Используйте корреляции. Будет хорошо, если воспользуетесь profile_report. Напишите в markdown свои наблюдения"
   ]
  },
  {
   "cell_type": "code",
   "execution_count": 59,
   "metadata": {},
   "outputs": [],
   "source": [
    "data_corr = data.corr()"
   ]
  },
  {
   "cell_type": "code",
   "execution_count": 60,
   "metadata": {},
   "outputs": [
    {
     "data": {
      "text/plain": [
       "<AxesSubplot:>"
      ]
     },
     "execution_count": 60,
     "metadata": {},
     "output_type": "execute_result"
    },
    {
     "data": {
      "image/png": "[encoded data removed]",
      "text/plain": [
       "<Figure size 1080x720 with 2 Axes>"
      ]
     },
     "metadata": {},
     "output_type": "display_data"
    }
   ],
   "source": [
    "sns.set(rc = ({'figure.figsize':(15, 10)}))\n",
    "sns.heatmap(data_corr, annot = True, \n",
    "            xticklabels = data_corr.columns.values, \n",
    "            yticklabels = data_corr.columns.values)"
   ]
  },
  {
   "cell_type": "markdown",
   "metadata": {},
   "source": [
    "Наблюдается сильная обратная кореляция: решение водителя и расстояние и продолжительность поездки. Это вполне объяснимо. Также наблюдается сильная кореляция широты и долготы (как расположения водетиля, так и расположения пассажира)."
   ]
  },
  {
   "cell_type": "markdown",
   "metadata": {},
   "source": [
    "Так как profile_report стал глючить, то без него..."
   ]
  },
  {
   "cell_type": "markdown",
   "metadata": {},
   "source": [
    "#### <center> 6. Удаление лишних переменных"
   ]
  },
  {
   "cell_type": "code",
   "execution_count": 61,
   "metadata": {},
   "outputs": [
    {
     "data": {
      "text/plain": [
       "Index(['index', 'offer_gk', 'weekday_key', 'hour_key', 'driver_gk', 'order_gk',\n",
       "       'driver_latitude', 'driver_longitude', 'origin_order_latitude',\n",
       "       'origin_order_longitude', 'distance_km', 'duration_min',\n",
       "       'offer_class_group', 'ride_type_desc', 'driver_response', 'distance',\n",
       "       'district'],\n",
       "      dtype='object')"
      ]
     },
     "execution_count": 61,
     "metadata": {},
     "output_type": "execute_result"
    }
   ],
   "source": [
    "data.columns"
   ]
  },
  {
   "cell_type": "code",
   "execution_count": 62,
   "metadata": {},
   "outputs": [],
   "source": [
    "data_1 = data.drop(['index', 'offer_gk', 'driver_gk', 'order_gk', 'driver_latitude', 'driver_longitude', 'origin_order_latitude', 'origin_order_longitude'], axis = 1)"
   ]
  },
  {
   "cell_type": "code",
   "execution_count": 63,
   "metadata": {},
   "outputs": [
    {
     "data": {
      "text/html": [
       "<div>\n",
       "<style scoped>\n",
       "    .dataframe tbody tr th:only-of-type {\n",
       "        vertical-align: middle;\n",
       "    }\n",
       "\n",
       "    .dataframe tbody tr th {\n",
       "        vertical-align: top;\n",
       "    }\n",
       "\n",
       "    .dataframe thead th {\n",
       "        text-align: right;\n",
       "    }\n",
       "</style>\n",
       "<table border=\"1\" class=\"dataframe\">\n",
       "  <thead>\n",
       "    <tr style=\"text-align: right;\">\n",
       "      <th></th>\n",
       "      <th>weekday_key</th>\n",
       "      <th>hour_key</th>\n",
       "      <th>distance_km</th>\n",
       "      <th>duration_min</th>\n",
       "      <th>offer_class_group</th>\n",
       "      <th>ride_type_desc</th>\n",
       "      <th>driver_response</th>\n",
       "      <th>distance</th>\n",
       "      <th>district</th>\n",
       "    </tr>\n",
       "  </thead>\n",
       "  <tbody>\n",
       "    <tr>\n",
       "      <th>0</th>\n",
       "      <td>5</td>\n",
       "      <td>14</td>\n",
       "      <td>18.802</td>\n",
       "      <td>25.217</td>\n",
       "      <td>Standard</td>\n",
       "      <td>private</td>\n",
       "      <td>1</td>\n",
       "      <td>3.413092</td>\n",
       "      <td>6</td>\n",
       "    </tr>\n",
       "    <tr>\n",
       "      <th>1</th>\n",
       "      <td>6</td>\n",
       "      <td>14</td>\n",
       "      <td>6.747</td>\n",
       "      <td>9.800</td>\n",
       "      <td>Economy</td>\n",
       "      <td>private</td>\n",
       "      <td>0</td>\n",
       "      <td>0.409999</td>\n",
       "      <td>6</td>\n",
       "    </tr>\n",
       "    <tr>\n",
       "      <th>2</th>\n",
       "      <td>4</td>\n",
       "      <td>16</td>\n",
       "      <td>12.383</td>\n",
       "      <td>19.250</td>\n",
       "      <td>Economy</td>\n",
       "      <td>private</td>\n",
       "      <td>1</td>\n",
       "      <td>1.062481</td>\n",
       "      <td>7</td>\n",
       "    </tr>\n",
       "  </tbody>\n",
       "</table>\n",
       "</div>"
      ],
      "text/plain": [
       "   weekday_key  hour_key  distance_km  duration_min offer_class_group  \\\n",
       "0            5        14       18.802        25.217          Standard   \n",
       "1            6        14        6.747         9.800           Economy   \n",
       "2            4        16       12.383        19.250           Economy   \n",
       "\n",
       "  ride_type_desc  driver_response  distance  district  \n",
       "0        private                1  3.413092         6  \n",
       "1        private                0  0.409999         6  \n",
       "2        private                1  1.062481         7  "
      ]
     },
     "execution_count": 63,
     "metadata": {},
     "output_type": "execute_result"
    }
   ],
   "source": [
    "data_1.head(3)"
   ]
  },
  {
   "cell_type": "markdown",
   "metadata": {},
   "source": [
    "#### <center> 7.Определите стратегию преобразования категориальных признаков (т.е. как их сделать адекватными для моделей)"
   ]
  },
  {
   "cell_type": "markdown",
   "metadata": {},
   "source": [
    "Преобразуем категориальные переменные. Будем использовать LabelEncoder:"
   ]
  },
  {
   "cell_type": "code",
   "execution_count": 64,
   "metadata": {},
   "outputs": [],
   "source": [
    "label_enc = LabelEncoder()"
   ]
  },
  {
   "cell_type": "markdown",
   "metadata": {},
   "source": [
    "Для переменной offer_class_group:"
   ]
  },
  {
   "cell_type": "code",
   "execution_count": 65,
   "metadata": {},
   "outputs": [],
   "source": [
    "offer_class_group = label_enc.fit_transform(data_1['offer_class_group'])\n",
    "offer_class_group = pd.DataFrame(offer_class_group, columns = ['offer_class_group'])"
   ]
  },
  {
   "cell_type": "markdown",
   "metadata": {},
   "source": [
    "Для переменной ride_type_desc:"
   ]
  },
  {
   "cell_type": "code",
   "execution_count": 66,
   "metadata": {},
   "outputs": [],
   "source": [
    "ride_type_desc = label_enc.fit_transform(data_1['ride_type_desc'])\n",
    "ride_type_desc = pd.DataFrame(ride_type_desc, columns = ['ride_type_desc'])"
   ]
  },
  {
   "cell_type": "markdown",
   "metadata": {},
   "source": [
    "Создадим новый dataframe, с которым будем работать:"
   ]
  },
  {
   "cell_type": "code",
   "execution_count": 67,
   "metadata": {},
   "outputs": [],
   "source": [
    "new_data = data_1[['weekday_key', 'hour_key', 'distance_km', 'duration_min', 'driver_response', 'distance', 'district']]"
   ]
  },
  {
   "cell_type": "markdown",
   "metadata": {},
   "source": [
    "Объединим преобразованные категориальные переменные с новым набором:"
   ]
  },
  {
   "cell_type": "code",
   "execution_count": 68,
   "metadata": {},
   "outputs": [],
   "source": [
    "new_data = new_data.join(offer_class_group)\n",
    "new_data = new_data.join(ride_type_desc)"
   ]
  },
  {
   "cell_type": "code",
   "execution_count": 69,
   "metadata": {},
   "outputs": [
    {
     "data": {
      "text/html": [
       "<div>\n",
       "<style scoped>\n",
       "    .dataframe tbody tr th:only-of-type {\n",
       "        vertical-align: middle;\n",
       "    }\n",
       "\n",
       "    .dataframe tbody tr th {\n",
       "        vertical-align: top;\n",
       "    }\n",
       "\n",
       "    .dataframe thead th {\n",
       "        text-align: right;\n",
       "    }\n",
       "</style>\n",
       "<table border=\"1\" class=\"dataframe\">\n",
       "  <thead>\n",
       "    <tr style=\"text-align: right;\">\n",
       "      <th></th>\n",
       "      <th>weekday_key</th>\n",
       "      <th>hour_key</th>\n",
       "      <th>distance_km</th>\n",
       "      <th>duration_min</th>\n",
       "      <th>driver_response</th>\n",
       "      <th>distance</th>\n",
       "      <th>district</th>\n",
       "      <th>offer_class_group</th>\n",
       "      <th>ride_type_desc</th>\n",
       "    </tr>\n",
       "  </thead>\n",
       "  <tbody>\n",
       "    <tr>\n",
       "      <th>0</th>\n",
       "      <td>5</td>\n",
       "      <td>14</td>\n",
       "      <td>18.802</td>\n",
       "      <td>25.217</td>\n",
       "      <td>1</td>\n",
       "      <td>3.413092</td>\n",
       "      <td>6</td>\n",
       "      <td>4</td>\n",
       "      <td>2</td>\n",
       "    </tr>\n",
       "    <tr>\n",
       "      <th>1</th>\n",
       "      <td>6</td>\n",
       "      <td>14</td>\n",
       "      <td>6.747</td>\n",
       "      <td>9.800</td>\n",
       "      <td>0</td>\n",
       "      <td>0.409999</td>\n",
       "      <td>6</td>\n",
       "      <td>1</td>\n",
       "      <td>2</td>\n",
       "    </tr>\n",
       "    <tr>\n",
       "      <th>2</th>\n",
       "      <td>4</td>\n",
       "      <td>16</td>\n",
       "      <td>12.383</td>\n",
       "      <td>19.250</td>\n",
       "      <td>1</td>\n",
       "      <td>1.062481</td>\n",
       "      <td>7</td>\n",
       "      <td>1</td>\n",
       "      <td>2</td>\n",
       "    </tr>\n",
       "  </tbody>\n",
       "</table>\n",
       "</div>"
      ],
      "text/plain": [
       "   weekday_key  hour_key  distance_km  duration_min  driver_response  \\\n",
       "0            5        14       18.802        25.217                1   \n",
       "1            6        14        6.747         9.800                0   \n",
       "2            4        16       12.383        19.250                1   \n",
       "\n",
       "   distance  district  offer_class_group  ride_type_desc  \n",
       "0  3.413092         6                  4               2  \n",
       "1  0.409999         6                  1               2  \n",
       "2  1.062481         7                  1               2  "
      ]
     },
     "execution_count": 69,
     "metadata": {},
     "output_type": "execute_result"
    }
   ],
   "source": [
    "new_data.head(3)"
   ]
  },
  {
   "cell_type": "markdown",
   "metadata": {},
   "source": [
    "#### <center> 8. Разделите выборку на обучаемую и тестовую"
   ]
  },
  {
   "cell_type": "code",
   "execution_count": 70,
   "metadata": {},
   "outputs": [],
   "source": [
    "X = new_data.drop(['driver_response'], axis = 1)"
   ]
  },
  {
   "cell_type": "code",
   "execution_count": 71,
   "metadata": {},
   "outputs": [],
   "source": [
    "y = new_data.driver_response"
   ]
  },
  {
   "cell_type": "code",
   "execution_count": 72,
   "metadata": {},
   "outputs": [
    {
     "name": "stdout",
     "output_type": "stream",
     "text": [
      "Количество элементов до операции: 73471\n",
      "Количество элементов после операции: 77692\n"
     ]
    }
   ],
   "source": [
    "ros = RandomOverSampler(random_state = 0)\n",
    "\n",
    "ros.fit(X, y)\n",
    "x_resampled, y_resampled = ros.fit_sample(X, y)\n",
    "print('Количество элементов до операции:', len(X))\n",
    "print('Количество элементов после операции:', len(x_resampled))"
   ]
  },
  {
   "cell_type": "code",
   "execution_count": 73,
   "metadata": {},
   "outputs": [],
   "source": [
    "x_train, x_test, y_train, y_test = train_test_split(x_resampled, y_resampled, test_size = 0.2)"
   ]
  },
  {
   "cell_type": "markdown",
   "metadata": {},
   "source": [
    "#### <center> 9. Обучите модель. Напишите в markdown свои наблюдения по полученным результатам"
   ]
  },
  {
   "cell_type": "code",
   "execution_count": 74,
   "metadata": {},
   "outputs": [
    {
     "data": {
      "text/plain": [
       "RandomForestClassifier()"
      ]
     },
     "execution_count": 74,
     "metadata": {},
     "output_type": "execute_result"
    }
   ],
   "source": [
    "# создаем модель деревья решений\n",
    "# выбираем 100 деревьев в качестве параметра\n",
    "model=RandomForestClassifier(n_estimators=100)\n",
    "\n",
    "# обучаем модель\n",
    "model.fit(x_train, y_train)"
   ]
  },
  {
   "cell_type": "markdown",
   "metadata": {},
   "source": [
    "Наиболее важные атрибуты для модели Random Forest:"
   ]
  },
  {
   "cell_type": "code",
   "execution_count": 75,
   "metadata": {},
   "outputs": [
    {
     "name": "stderr",
     "output_type": "stream",
     "text": [
      "No handles with labels found to put in legend.\n"
     ]
    },
    {
     "data": {
      "image/png": "[encoded data removed]",
      "text/plain": [
       "<Figure size 432x432 with 1 Axes>"
      ]
     },
     "metadata": {},
     "output_type": "display_data"
    }
   ],
   "source": [
    "headers = list(x_train.columns.values)\n",
    "\n",
    "feature_imp = pd.Series(model.feature_importances_,index=headers).sort_values(ascending=False)\n",
    "\n",
    "f, ax = plt.subplots(figsize=(6, 6))\n",
    "sns.barplot(x=feature_imp, y=feature_imp.index)\n",
    "\n",
    "plt.xlabel('Важность атрибутов')\n",
    "plt.ylabel('Атрибуты')\n",
    "plt.title(\"Наиболее важные атрибуты\")\n",
    "plt.legend()\n",
    "plt.show()"
   ]
  },
  {
   "cell_type": "markdown",
   "metadata": {},
   "source": [
    "Посчитаем качество модели - classification report:"
   ]
  },
  {
   "cell_type": "code",
   "execution_count": 76,
   "metadata": {},
   "outputs": [
    {
     "name": "stdout",
     "output_type": "stream",
     "text": [
      "              precision    recall  f1-score   support\n",
      "\n",
      "           0       0.81      0.71      0.76      7773\n",
      "           1       0.74      0.83      0.78      7766\n",
      "\n",
      "    accuracy                           0.77     15539\n",
      "   macro avg       0.77      0.77      0.77     15539\n",
      "weighted avg       0.77      0.77      0.77     15539\n",
      "\n"
     ]
    },
    {
     "data": {
      "text/plain": [
       "0.7707703198404016"
      ]
     },
     "execution_count": 76,
     "metadata": {},
     "output_type": "execute_result"
    }
   ],
   "source": [
    "model_pred = model.predict(x_test)\n",
    "\n",
    "print(classification_report(y_test, model_pred))\n",
    "\n",
    "model.score(x_test, y_test)"
   ]
  },
  {
   "cell_type": "markdown",
   "metadata": {},
   "source": [
    "Итоговый результат получился неплохим, но можно лучше."
   ]
  },
  {
   "cell_type": "markdown",
   "metadata": {},
   "source": [
    "#### <center> Попытка улучшить модель"
   ]
  },
  {
   "cell_type": "markdown",
   "metadata": {},
   "source": [
    "Попробуем написать код, который будет позволять определять, к какому району Москвы относится кокретная точка на карте. Создадим новые переменные и еще раз построим модель."
   ]
  },
  {
   "cell_type": "code",
   "execution_count": 77,
   "metadata": {},
   "outputs": [],
   "source": [
    "areas = pd.read_csv('ao.csv')"
   ]
  },
  {
   "cell_type": "code",
   "execution_count": 78,
   "metadata": {},
   "outputs": [
    {
     "data": {
      "text/html": [
       "<div>\n",
       "<style scoped>\n",
       "    .dataframe tbody tr th:only-of-type {\n",
       "        vertical-align: middle;\n",
       "    }\n",
       "\n",
       "    .dataframe tbody tr th {\n",
       "        vertical-align: top;\n",
       "    }\n",
       "\n",
       "    .dataframe thead th {\n",
       "        text-align: right;\n",
       "    }\n",
       "</style>\n",
       "<table border=\"1\" class=\"dataframe\">\n",
       "  <thead>\n",
       "    <tr style=\"text-align: right;\">\n",
       "      <th></th>\n",
       "      <th>WKT</th>\n",
       "      <th>NAME</th>\n",
       "      <th>OKATO</th>\n",
       "      <th>ABBREV</th>\n",
       "    </tr>\n",
       "  </thead>\n",
       "  <tbody>\n",
       "    <tr>\n",
       "      <th>0</th>\n",
       "      <td>MULTIPOLYGON (((36.8031012 55.4408329,36.80319...</td>\n",
       "      <td>Троицкий</td>\n",
       "      <td>45298000</td>\n",
       "      <td>Троицкий</td>\n",
       "    </tr>\n",
       "    <tr>\n",
       "      <th>1</th>\n",
       "      <td>MULTIPOLYGON (((37.0869749 55.5903604,37.09492...</td>\n",
       "      <td>Новомосковский</td>\n",
       "      <td>45297000</td>\n",
       "      <td>Новомосковский</td>\n",
       "    </tr>\n",
       "    <tr>\n",
       "      <th>2</th>\n",
       "      <td>POLYGON ((37.1316021 56.0164459,37.1326592 56....</td>\n",
       "      <td>Зеленоградский</td>\n",
       "      <td>45272000</td>\n",
       "      <td>ЗелАО</td>\n",
       "    </tr>\n",
       "  </tbody>\n",
       "</table>\n",
       "</div>"
      ],
      "text/plain": [
       "                                                 WKT            NAME  \\\n",
       "0  MULTIPOLYGON (((36.8031012 55.4408329,36.80319...        Троицкий   \n",
       "1  MULTIPOLYGON (((37.0869749 55.5903604,37.09492...  Новомосковский   \n",
       "2  POLYGON ((37.1316021 56.0164459,37.1326592 56....  Зеленоградский   \n",
       "\n",
       "      OKATO          ABBREV  \n",
       "0  45298000        Троицкий  \n",
       "1  45297000  Новомосковский  \n",
       "2  45272000           ЗелАО  "
      ]
     },
     "execution_count": 78,
     "metadata": {},
     "output_type": "execute_result"
    }
   ],
   "source": [
    "areas.head(3)"
   ]
  },
  {
   "cell_type": "markdown",
   "metadata": {},
   "source": [
    "Напишем код для преобразования угловых координат в координаты на плоскости:"
   ]
  },
  {
   "cell_type": "code",
   "execution_count": 88,
   "metadata": {},
   "outputs": [
    {
     "name": "stdout",
     "output_type": "stream",
     "text": [
      "{'Троицкий': [<shapely.geometry.polygon.Polygon object at 0x000002055D1E5708>, <shapely.geometry.polygon.Polygon object at 0x000002055E4A7D08>], 'Новомосковский': [<shapely.geometry.polygon.Polygon object at 0x000002055E38EAC8>, <shapely.geometry.polygon.Polygon object at 0x000002055E6E4E08>, <shapely.geometry.polygon.Polygon object at 0x000002055E34FA88>], 'ЗелАО': [<shapely.geometry.polygon.Polygon object at 0x000002055E6E2AC8>], 'ЮЗАО': [<shapely.geometry.polygon.Polygon object at 0x000002055BE423C8>], 'ЮВАО': [<shapely.geometry.polygon.Polygon object at 0x000002055E358F88>, <shapely.geometry.polygon.Polygon object at 0x000002055E34CAC8>], 'ЦАО': [<shapely.geometry.polygon.Polygon object at 0x000002055E4DF588>], 'САО': [<shapely.geometry.polygon.Polygon object at 0x000002055E38CFC8>, <shapely.geometry.polygon.Polygon object at 0x000002055E4CD3C8>], 'СЗАО': [<shapely.geometry.polygon.Polygon object at 0x000002055E364C08>], 'СВАО': [<shapely.geometry.polygon.Polygon object at 0x000002055E6E4FC8>], 'ЮАО': [<shapely.geometry.polygon.Polygon object at 0x000002055E3757C8>], 'ВАО': [<shapely.geometry.polygon.Polygon object at 0x000002055E37FC48>, <shapely.geometry.polygon.Polygon object at 0x000002055B842948>, <shapely.geometry.polygon.Polygon object at 0x000002055D1F5588>, <shapely.geometry.polygon.Polygon object at 0x000002055D1F5788>, <shapely.geometry.polygon.Polygon object at 0x0000020559A81388>], 'ЗАО': [<shapely.geometry.polygon.Polygon object at 0x000002055D203488>, <shapely.geometry.polygon.Polygon object at 0x000002055B886B88>, <shapely.geometry.polygon.Polygon object at 0x000002055BE5F748>, <shapely.geometry.polygon.Polygon object at 0x000002055E4DD888>, <shapely.geometry.polygon.Polygon object at 0x000002055E383188>, <shapely.geometry.polygon.Polygon object at 0x000002055E3843C8>, <shapely.geometry.polygon.Polygon object at 0x000002055E383A08>]}\n"
     ]
    }
   ],
   "source": [
    "districts = {}\n",
    "for area in areas.iterrows():\n",
    "        # Получение аббревиатуры административного округа\n",
    "        abbrev = area[1].ABBREV\n",
    "        # Получение границ административного округа. \n",
    "        # Границы могут быть представлены одним или несколькими многоугольниками\n",
    "        polygons = area[1].WKT\n",
    "        \n",
    "        # Если рассматриваемый округ состоит из нескольких полигонов, то ...\n",
    "        if 'MULTIPOLYGON' in polygons:\n",
    "            # Регулярное выражение убирает слово 'MULTIPOLYGON', '((' и '))'\n",
    "            m_polygon_pattern = r'(.*\\(\\()(\\(.*\\))(\\)\\).*)'\n",
    "            right_m_polygon = re.sub(m_polygon_pattern, r'\\2', polygons)\n",
    "            # Разделяем на отдельные полигоны по фаблону '),('\n",
    "            many_polygons = right_m_polygon.split('),(', maxsplit = -1)\n",
    "            list_ = []\n",
    "            \n",
    "            for one_polygon in many_polygons:\n",
    "                # Убираем открывающую и закрывающую скобки\n",
    "                polygon = one_polygon[1 : -1]\n",
    "                # Разделяемя отдельные точки полигона по запятой\n",
    "                points = polygon.split(',', maxsplit = -1)\n",
    "                points = pd.DataFrame(points, columns = ['points'])\n",
    "                # Разделяемя широту и долготу по пробелу\n",
    "                lat_lon_reg_exp = r'(\\d+\\.\\d+)\\s(\\d+\\.\\d+)'\n",
    "                lat_lon = points['points'].str.extract(lat_lon_reg_exp)\n",
    "                lat_lon.columns = ['latitude', 'longitude']\n",
    "                \n",
    "                # Преобразование координат\n",
    "                # WGS84 datum                                                               \n",
    "                wgs84 = pyproj.Proj('EPSG:4326')\n",
    "                # Albers Equal Area Conic (aea)                                             \n",
    "                nplaea = pyproj.Proj(\"+proj=laea +lat_0=90 +lon_0=-40 +x_0=0 +y_0=0 +ellps=WGS84 +datum=WGS84 +units=m +no_defs\")\n",
    "                latitude = np.array(lat_lon['latitude'])\n",
    "                longitude = np.array(lat_lon['longitude'])\n",
    "                poly_x, poly_y = pyproj.transform(wgs84, nplaea, longitude, latitude)\n",
    "                poly_proj = Polygon(zip(poly_x,poly_y))\n",
    "                list_.append(poly_proj)\n",
    "                \n",
    "            districts[abbrev] = list_ \n",
    "\n",
    "        # Если Вы дочитали до этой строчки, то Вы большой МОЛОДЕЦ!\n",
    "        # Если рассматриваемый округ состоит из одного полигона, то ...\n",
    "        else:\n",
    "            # Регулярное выражение убирает слово 'POLYGON', '(' и ')'\n",
    "            polygon_pattern = r'(.*\\()(\\(.*\\))(\\).*)'\n",
    "            right_polygon = re.sub(polygon_pattern, r'\\2', polygons)\n",
    "            list_ = []\n",
    "            \n",
    "            # Убираем открывающую и закрывающую скобки\n",
    "            polygon = right_polygon[1 : -1]\n",
    "            # Разделяемя отдельные точки полигона по запятой\n",
    "            points = polygon.split(',', maxsplit = -1)\n",
    "            points = pd.DataFrame(points, columns = ['points'])\n",
    "            # Разделяемя широту и долготу по пробелу\n",
    "            lat_lon_reg_exp = r'(\\d+\\.\\d+)\\s(\\d+\\.\\d+)'\n",
    "            lat_lon = points['points'].str.extract(lat_lon_reg_exp)\n",
    "            lat_lon.columns = ['latitude', 'longitude']\n",
    "            \n",
    "            # Преобразование координат\n",
    "            # WGS84 datum                                                               \n",
    "            wgs84 = pyproj.Proj('EPSG:4326')\n",
    "            # Albers Equal Area Conic (aea)                                             \n",
    "            nplaea = pyproj.Proj(\"+proj=laea +lat_0=90 +lon_0=-40 +x_0=0 +y_0=0 +ellps=WGS84 +datum=WGS84 +units=m +no_defs\")\n",
    "            latitude = np.array(lat_lon['latitude'])\n",
    "            longitude = np.array(lat_lon['longitude'])\n",
    "            poly_x, poly_y = pyproj.transform(wgs84, nplaea, longitude, latitude)\n",
    "            poly_proj = Polygon(zip(poly_x,poly_y))\n",
    "            list_.append(poly_proj)\n",
    "            \n",
    "            districts[abbrev] = list_ \n",
    "print(districts)"
   ]
  },
  {
   "cell_type": "markdown",
   "metadata": {},
   "source": [
    "Напишем вспомогательную функцию, которая для каждой строчки исходного dataframe по угловым координатм определяет район:"
   ]
  },
  {
   "cell_type": "code",
   "execution_count": 80,
   "metadata": {},
   "outputs": [],
   "source": [
    "def get_district(latitude, longitude, districts):\n",
    "    wgs84 = pyproj.Proj('EPSG:4326')  \n",
    "    nnplaea = pyproj.Proj(\"+proj=laea +lat_0=90 +lon_0=-40 +x_0=0 +y_0=0 +ellps=WGS84 +datum=WGS84 +units=m +no_defs\")\n",
    "    point_x, point_y = pyproj.transform(wgs84, nplaea, longitude, latitude)\n",
    "    grid_point = Point(point_x, point_y)\n",
    "    \n",
    "    output = 'Неизвестно'\n",
    "    \n",
    "    for district in districts:\n",
    "        items = districts[district]\n",
    "        for item in items:\n",
    "            if grid_point.within(item):\n",
    "                output = district\n",
    "                break\n",
    "            \n",
    "    return(output)"
   ]
  },
  {
   "cell_type": "markdown",
   "metadata": {},
   "source": [
    "Напишем функцию, которая определяет район водителя:"
   ]
  },
  {
   "cell_type": "code",
   "execution_count": 81,
   "metadata": {},
   "outputs": [],
   "source": [
    "def get_driver_district(row):\n",
    "    driver_latitude = row['driver_latitude']\n",
    "    driver_longitude = row['driver_longitude']\n",
    "    driver_district = get_district(driver_longitude, driver_latitude, districts)\n",
    "    return driver_district  "
   ]
  },
  {
   "cell_type": "markdown",
   "metadata": {},
   "source": [
    "Напишем функцию, которая определяет район заказа:"
   ]
  },
  {
   "cell_type": "code",
   "execution_count": 83,
   "metadata": {},
   "outputs": [],
   "source": [
    "def get_order_district(row):\n",
    "    order_latitude = row['origin_order_latitude']\n",
    "    order_longitude = row['origin_order_longitude']\n",
    "    order_district = get_district(order_longitude, order_latitude, districts)\n",
    "    return order_district"
   ]
  },
  {
   "cell_type": "markdown",
   "metadata": {},
   "source": [
    "Создадим новые переменные в исходном dataframe: район водителя и район заказа"
   ]
  },
  {
   "cell_type": "code",
   "execution_count": 91,
   "metadata": {},
   "outputs": [
    {
     "name": "stdout",
     "output_type": "stream",
     "text": [
      "Wall time: 1h 15min 42s\n"
     ]
    }
   ],
   "source": [
    "%%time\n",
    "data['driver_district'] = data.apply(get_driver_district, axis = 1)"
   ]
  },
  {
   "cell_type": "code",
   "execution_count": 92,
   "metadata": {
    "scrolled": false
   },
   "outputs": [
    {
     "name": "stdout",
     "output_type": "stream",
     "text": [
      "Wall time: 1h 5min 12s\n"
     ]
    }
   ],
   "source": [
    "%%time\n",
    "data['order_district'] = data.apply(get_order_district, axis = 1)"
   ]
  },
  {
   "cell_type": "markdown",
   "metadata": {},
   "source": [
    "Напишем функцию, которая сравнивает район водителя и заказа. При их совпадении переменная равна 1, в обратнном случае - 0."
   ]
  },
  {
   "cell_type": "code",
   "execution_count": 93,
   "metadata": {},
   "outputs": [],
   "source": [
    "def compare_districts(row):\n",
    "    driver_district = row.driver_district\n",
    "    order_district = row.order_district\n",
    "    if (driver_district == order_district) & ((driver_district != 'Неизвестно') | (order_district!= 'Неизвестно')):\n",
    "        output = 1\n",
    "    else:\n",
    "        output = 0\n",
    "    return(output)"
   ]
  },
  {
   "cell_type": "markdown",
   "metadata": {},
   "source": [
    "Создадим новую переменную:"
   ]
  },
  {
   "cell_type": "code",
   "execution_count": 94,
   "metadata": {},
   "outputs": [],
   "source": [
    "data['same_districts'] = data.apply(compare_districts, axis =1)"
   ]
  },
  {
   "cell_type": "code",
   "execution_count": 95,
   "metadata": {},
   "outputs": [
    {
     "data": {
      "text/html": [
       "<div>\n",
       "<style scoped>\n",
       "    .dataframe tbody tr th:only-of-type {\n",
       "        vertical-align: middle;\n",
       "    }\n",
       "\n",
       "    .dataframe tbody tr th {\n",
       "        vertical-align: top;\n",
       "    }\n",
       "\n",
       "    .dataframe thead th {\n",
       "        text-align: right;\n",
       "    }\n",
       "</style>\n",
       "<table border=\"1\" class=\"dataframe\">\n",
       "  <thead>\n",
       "    <tr style=\"text-align: right;\">\n",
       "      <th></th>\n",
       "      <th>index</th>\n",
       "      <th>offer_gk</th>\n",
       "      <th>weekday_key</th>\n",
       "      <th>hour_key</th>\n",
       "      <th>driver_gk</th>\n",
       "      <th>order_gk</th>\n",
       "      <th>driver_latitude</th>\n",
       "      <th>driver_longitude</th>\n",
       "      <th>origin_order_latitude</th>\n",
       "      <th>origin_order_longitude</th>\n",
       "      <th>distance_km</th>\n",
       "      <th>duration_min</th>\n",
       "      <th>offer_class_group</th>\n",
       "      <th>ride_type_desc</th>\n",
       "      <th>driver_response</th>\n",
       "      <th>distance</th>\n",
       "      <th>district</th>\n",
       "      <th>driver_district</th>\n",
       "      <th>order_district</th>\n",
       "      <th>same_districts</th>\n",
       "    </tr>\n",
       "  </thead>\n",
       "  <tbody>\n",
       "    <tr>\n",
       "      <th>0</th>\n",
       "      <td>1</td>\n",
       "      <td>759733</td>\n",
       "      <td>5</td>\n",
       "      <td>14</td>\n",
       "      <td>6080</td>\n",
       "      <td>358774</td>\n",
       "      <td>55.805342</td>\n",
       "      <td>37.515023</td>\n",
       "      <td>55.819329</td>\n",
       "      <td>37.466398</td>\n",
       "      <td>18.802</td>\n",
       "      <td>25.217</td>\n",
       "      <td>Standard</td>\n",
       "      <td>private</td>\n",
       "      <td>1</td>\n",
       "      <td>3.413092</td>\n",
       "      <td>6</td>\n",
       "      <td>САО</td>\n",
       "      <td>СЗАО</td>\n",
       "      <td>0</td>\n",
       "    </tr>\n",
       "    <tr>\n",
       "      <th>1</th>\n",
       "      <td>2</td>\n",
       "      <td>416977</td>\n",
       "      <td>6</td>\n",
       "      <td>14</td>\n",
       "      <td>6080</td>\n",
       "      <td>866260</td>\n",
       "      <td>55.813978</td>\n",
       "      <td>37.347688</td>\n",
       "      <td>55.814827</td>\n",
       "      <td>37.354074</td>\n",
       "      <td>6.747</td>\n",
       "      <td>9.800</td>\n",
       "      <td>Economy</td>\n",
       "      <td>private</td>\n",
       "      <td>0</td>\n",
       "      <td>0.409999</td>\n",
       "      <td>6</td>\n",
       "      <td>Неизвестно</td>\n",
       "      <td>Неизвестно</td>\n",
       "      <td>0</td>\n",
       "    </tr>\n",
       "    <tr>\n",
       "      <th>2</th>\n",
       "      <td>4</td>\n",
       "      <td>1120055</td>\n",
       "      <td>4</td>\n",
       "      <td>16</td>\n",
       "      <td>6080</td>\n",
       "      <td>506710</td>\n",
       "      <td>55.803578</td>\n",
       "      <td>37.521602</td>\n",
       "      <td>55.812559</td>\n",
       "      <td>37.527407</td>\n",
       "      <td>12.383</td>\n",
       "      <td>19.250</td>\n",
       "      <td>Economy</td>\n",
       "      <td>private</td>\n",
       "      <td>1</td>\n",
       "      <td>1.062481</td>\n",
       "      <td>7</td>\n",
       "      <td>САО</td>\n",
       "      <td>САО</td>\n",
       "      <td>1</td>\n",
       "    </tr>\n",
       "    <tr>\n",
       "      <th>3</th>\n",
       "      <td>5</td>\n",
       "      <td>1058203</td>\n",
       "      <td>6</td>\n",
       "      <td>15</td>\n",
       "      <td>6080</td>\n",
       "      <td>360328</td>\n",
       "      <td>55.818963</td>\n",
       "      <td>37.361033</td>\n",
       "      <td>55.814827</td>\n",
       "      <td>37.354074</td>\n",
       "      <td>6.747</td>\n",
       "      <td>9.800</td>\n",
       "      <td>Economy</td>\n",
       "      <td>private</td>\n",
       "      <td>0</td>\n",
       "      <td>0.632868</td>\n",
       "      <td>6</td>\n",
       "      <td>Неизвестно</td>\n",
       "      <td>Неизвестно</td>\n",
       "      <td>0</td>\n",
       "    </tr>\n",
       "    <tr>\n",
       "      <th>4</th>\n",
       "      <td>7</td>\n",
       "      <td>128861</td>\n",
       "      <td>5</td>\n",
       "      <td>20</td>\n",
       "      <td>6080</td>\n",
       "      <td>254374</td>\n",
       "      <td>55.839318</td>\n",
       "      <td>37.248862</td>\n",
       "      <td>55.839134</td>\n",
       "      <td>37.304101</td>\n",
       "      <td>1.517</td>\n",
       "      <td>3.933</td>\n",
       "      <td>Economy</td>\n",
       "      <td>private</td>\n",
       "      <td>0</td>\n",
       "      <td>3.449065</td>\n",
       "      <td>6</td>\n",
       "      <td>Неизвестно</td>\n",
       "      <td>Неизвестно</td>\n",
       "      <td>0</td>\n",
       "    </tr>\n",
       "    <tr>\n",
       "      <th>5</th>\n",
       "      <td>8</td>\n",
       "      <td>493006</td>\n",
       "      <td>5</td>\n",
       "      <td>20</td>\n",
       "      <td>6080</td>\n",
       "      <td>753429</td>\n",
       "      <td>55.818748</td>\n",
       "      <td>37.338240</td>\n",
       "      <td>55.835764</td>\n",
       "      <td>37.294710</td>\n",
       "      <td>6.222</td>\n",
       "      <td>15.433</td>\n",
       "      <td>Economy</td>\n",
       "      <td>private</td>\n",
       "      <td>0</td>\n",
       "      <td>3.312348</td>\n",
       "      <td>6</td>\n",
       "      <td>Неизвестно</td>\n",
       "      <td>Неизвестно</td>\n",
       "      <td>0</td>\n",
       "    </tr>\n",
       "    <tr>\n",
       "      <th>6</th>\n",
       "      <td>9</td>\n",
       "      <td>953983</td>\n",
       "      <td>6</td>\n",
       "      <td>7</td>\n",
       "      <td>6080</td>\n",
       "      <td>533820</td>\n",
       "      <td>55.839155</td>\n",
       "      <td>37.251947</td>\n",
       "      <td>55.833198</td>\n",
       "      <td>37.312197</td>\n",
       "      <td>10.410</td>\n",
       "      <td>23.083</td>\n",
       "      <td>Economy</td>\n",
       "      <td>private</td>\n",
       "      <td>0</td>\n",
       "      <td>3.820042</td>\n",
       "      <td>6</td>\n",
       "      <td>Неизвестно</td>\n",
       "      <td>Неизвестно</td>\n",
       "      <td>0</td>\n",
       "    </tr>\n",
       "    <tr>\n",
       "      <th>7</th>\n",
       "      <td>10</td>\n",
       "      <td>479392</td>\n",
       "      <td>6</td>\n",
       "      <td>11</td>\n",
       "      <td>6080</td>\n",
       "      <td>139936</td>\n",
       "      <td>55.857133</td>\n",
       "      <td>37.414013</td>\n",
       "      <td>55.846374</td>\n",
       "      <td>37.362253</td>\n",
       "      <td>27.641</td>\n",
       "      <td>29.567</td>\n",
       "      <td>Economy</td>\n",
       "      <td>private</td>\n",
       "      <td>0</td>\n",
       "      <td>3.445132</td>\n",
       "      <td>6</td>\n",
       "      <td>СЗАО</td>\n",
       "      <td>СЗАО</td>\n",
       "      <td>1</td>\n",
       "    </tr>\n",
       "    <tr>\n",
       "      <th>8</th>\n",
       "      <td>11</td>\n",
       "      <td>976469</td>\n",
       "      <td>3</td>\n",
       "      <td>7</td>\n",
       "      <td>6080</td>\n",
       "      <td>620017</td>\n",
       "      <td>55.819520</td>\n",
       "      <td>37.322065</td>\n",
       "      <td>55.811627</td>\n",
       "      <td>37.363944</td>\n",
       "      <td>16.683</td>\n",
       "      <td>25.633</td>\n",
       "      <td>Economy</td>\n",
       "      <td>private</td>\n",
       "      <td>0</td>\n",
       "      <td>2.759704</td>\n",
       "      <td>6</td>\n",
       "      <td>Неизвестно</td>\n",
       "      <td>Неизвестно</td>\n",
       "      <td>0</td>\n",
       "    </tr>\n",
       "    <tr>\n",
       "      <th>9</th>\n",
       "      <td>12</td>\n",
       "      <td>139598</td>\n",
       "      <td>6</td>\n",
       "      <td>14</td>\n",
       "      <td>6080</td>\n",
       "      <td>279573</td>\n",
       "      <td>55.815298</td>\n",
       "      <td>37.350735</td>\n",
       "      <td>55.809279</td>\n",
       "      <td>37.325665</td>\n",
       "      <td>7.733</td>\n",
       "      <td>10.617</td>\n",
       "      <td>Economy</td>\n",
       "      <td>private</td>\n",
       "      <td>0</td>\n",
       "      <td>1.703394</td>\n",
       "      <td>6</td>\n",
       "      <td>Неизвестно</td>\n",
       "      <td>Неизвестно</td>\n",
       "      <td>0</td>\n",
       "    </tr>\n",
       "  </tbody>\n",
       "</table>\n",
       "</div>"
      ],
      "text/plain": [
       "   index  offer_gk  weekday_key  hour_key  driver_gk  order_gk  \\\n",
       "0      1    759733            5        14       6080    358774   \n",
       "1      2    416977            6        14       6080    866260   \n",
       "2      4   1120055            4        16       6080    506710   \n",
       "3      5   1058203            6        15       6080    360328   \n",
       "4      7    128861            5        20       6080    254374   \n",
       "5      8    493006            5        20       6080    753429   \n",
       "6      9    953983            6         7       6080    533820   \n",
       "7     10    479392            6        11       6080    139936   \n",
       "8     11    976469            3         7       6080    620017   \n",
       "9     12    139598            6        14       6080    279573   \n",
       "\n",
       "   driver_latitude  driver_longitude  origin_order_latitude  \\\n",
       "0        55.805342         37.515023              55.819329   \n",
       "1        55.813978         37.347688              55.814827   \n",
       "2        55.803578         37.521602              55.812559   \n",
       "3        55.818963         37.361033              55.814827   \n",
       "4        55.839318         37.248862              55.839134   \n",
       "5        55.818748         37.338240              55.835764   \n",
       "6        55.839155         37.251947              55.833198   \n",
       "7        55.857133         37.414013              55.846374   \n",
       "8        55.819520         37.322065              55.811627   \n",
       "9        55.815298         37.350735              55.809279   \n",
       "\n",
       "   origin_order_longitude  distance_km  duration_min offer_class_group  \\\n",
       "0               37.466398       18.802        25.217          Standard   \n",
       "1               37.354074        6.747         9.800           Economy   \n",
       "2               37.527407       12.383        19.250           Economy   \n",
       "3               37.354074        6.747         9.800           Economy   \n",
       "4               37.304101        1.517         3.933           Economy   \n",
       "5               37.294710        6.222        15.433           Economy   \n",
       "6               37.312197       10.410        23.083           Economy   \n",
       "7               37.362253       27.641        29.567           Economy   \n",
       "8               37.363944       16.683        25.633           Economy   \n",
       "9               37.325665        7.733        10.617           Economy   \n",
       "\n",
       "  ride_type_desc  driver_response  distance  district driver_district  \\\n",
       "0        private                1  3.413092         6             САО   \n",
       "1        private                0  0.409999         6      Неизвестно   \n",
       "2        private                1  1.062481         7             САО   \n",
       "3        private                0  0.632868         6      Неизвестно   \n",
       "4        private                0  3.449065         6      Неизвестно   \n",
       "5        private                0  3.312348         6      Неизвестно   \n",
       "6        private                0  3.820042         6      Неизвестно   \n",
       "7        private                0  3.445132         6            СЗАО   \n",
       "8        private                0  2.759704         6      Неизвестно   \n",
       "9        private                0  1.703394         6      Неизвестно   \n",
       "\n",
       "  order_district  same_districts  \n",
       "0           СЗАО               0  \n",
       "1     Неизвестно               0  \n",
       "2            САО               1  \n",
       "3     Неизвестно               0  \n",
       "4     Неизвестно               0  \n",
       "5     Неизвестно               0  \n",
       "6     Неизвестно               0  \n",
       "7           СЗАО               1  \n",
       "8     Неизвестно               0  \n",
       "9     Неизвестно               0  "
      ]
     },
     "execution_count": 95,
     "metadata": {},
     "output_type": "execute_result"
    }
   ],
   "source": [
    "data.head(10)"
   ]
  },
  {
   "cell_type": "markdown",
   "metadata": {},
   "source": [
    "Повторим шаги для создания модели. Удалим ненужные столбцы:"
   ]
  },
  {
   "cell_type": "code",
   "execution_count": 96,
   "metadata": {},
   "outputs": [],
   "source": [
    "data_2 = data.drop(['index', 'offer_gk', 'driver_gk', 'order_gk', 'driver_latitude', 'driver_longitude', 'origin_order_latitude', 'origin_order_longitude'], axis = 1)"
   ]
  },
  {
   "cell_type": "markdown",
   "metadata": {},
   "source": [
    "Преобразуем категориальные переменные:"
   ]
  },
  {
   "cell_type": "code",
   "execution_count": 97,
   "metadata": {},
   "outputs": [],
   "source": [
    "label_enc = LabelEncoder()"
   ]
  },
  {
   "cell_type": "markdown",
   "metadata": {},
   "source": [
    "Для переменной offer_class_group:"
   ]
  },
  {
   "cell_type": "code",
   "execution_count": 98,
   "metadata": {},
   "outputs": [],
   "source": [
    "offer_class_group = label_enc.fit_transform(data_2['offer_class_group'])\n",
    "offer_class_group = pd.DataFrame(offer_class_group, columns = ['offer_class_group'])"
   ]
  },
  {
   "cell_type": "markdown",
   "metadata": {},
   "source": [
    "Для переменной ride_type_desc:"
   ]
  },
  {
   "cell_type": "code",
   "execution_count": 99,
   "metadata": {},
   "outputs": [],
   "source": [
    "ride_type_desc = label_enc.fit_transform(data_2['ride_type_desc'])\n",
    "ride_type_desc = pd.DataFrame(ride_type_desc, columns = ['ride_type_desc'])"
   ]
  },
  {
   "cell_type": "markdown",
   "metadata": {},
   "source": [
    "Для переменной driver_district:"
   ]
  },
  {
   "cell_type": "code",
   "execution_count": 100,
   "metadata": {},
   "outputs": [],
   "source": [
    "driver_district = label_enc.fit_transform(data_2['driver_district'])\n",
    "driver_district = pd.DataFrame(driver_district, columns = ['driver_district'])"
   ]
  },
  {
   "cell_type": "markdown",
   "metadata": {},
   "source": [
    "Для переменной order_district:"
   ]
  },
  {
   "cell_type": "code",
   "execution_count": 101,
   "metadata": {},
   "outputs": [],
   "source": [
    "order_district = label_enc.fit_transform(data_2['order_district'])\n",
    "order_district = pd.DataFrame(order_district, columns = ['order_district'])"
   ]
  },
  {
   "cell_type": "markdown",
   "metadata": {},
   "source": [
    "Создадим итоговый набор данных:"
   ]
  },
  {
   "cell_type": "code",
   "execution_count": 102,
   "metadata": {},
   "outputs": [],
   "source": [
    "final_data = data_2[['weekday_key', 'hour_key', 'distance_km', 'duration_min', 'driver_response', 'distance', 'same_districts']]"
   ]
  },
  {
   "cell_type": "code",
   "execution_count": 103,
   "metadata": {},
   "outputs": [],
   "source": [
    "final_data = final_data.join(offer_class_group)\n",
    "final_data = final_data.join(ride_type_desc)\n",
    "final_data = final_data.join(driver_district)\n",
    "final_data = final_data.join(order_district)\n",
    "final_data = final_data.join(district)"
   ]
  },
  {
   "cell_type": "code",
   "execution_count": 104,
   "metadata": {},
   "outputs": [
    {
     "data": {
      "text/html": [
       "<div>\n",
       "<style scoped>\n",
       "    .dataframe tbody tr th:only-of-type {\n",
       "        vertical-align: middle;\n",
       "    }\n",
       "\n",
       "    .dataframe tbody tr th {\n",
       "        vertical-align: top;\n",
       "    }\n",
       "\n",
       "    .dataframe thead th {\n",
       "        text-align: right;\n",
       "    }\n",
       "</style>\n",
       "<table border=\"1\" class=\"dataframe\">\n",
       "  <thead>\n",
       "    <tr style=\"text-align: right;\">\n",
       "      <th></th>\n",
       "      <th>weekday_key</th>\n",
       "      <th>hour_key</th>\n",
       "      <th>distance_km</th>\n",
       "      <th>duration_min</th>\n",
       "      <th>driver_response</th>\n",
       "      <th>distance</th>\n",
       "      <th>same_districts</th>\n",
       "      <th>offer_class_group</th>\n",
       "      <th>ride_type_desc</th>\n",
       "      <th>driver_district</th>\n",
       "      <th>order_district</th>\n",
       "      <th>district</th>\n",
       "    </tr>\n",
       "  </thead>\n",
       "  <tbody>\n",
       "    <tr>\n",
       "      <th>0</th>\n",
       "      <td>5</td>\n",
       "      <td>14</td>\n",
       "      <td>18.802</td>\n",
       "      <td>25.217</td>\n",
       "      <td>1</td>\n",
       "      <td>3.413092</td>\n",
       "      <td>0</td>\n",
       "      <td>4</td>\n",
       "      <td>2</td>\n",
       "      <td>5</td>\n",
       "      <td>7</td>\n",
       "      <td>6</td>\n",
       "    </tr>\n",
       "    <tr>\n",
       "      <th>1</th>\n",
       "      <td>6</td>\n",
       "      <td>14</td>\n",
       "      <td>6.747</td>\n",
       "      <td>9.800</td>\n",
       "      <td>0</td>\n",
       "      <td>0.409999</td>\n",
       "      <td>0</td>\n",
       "      <td>1</td>\n",
       "      <td>2</td>\n",
       "      <td>3</td>\n",
       "      <td>3</td>\n",
       "      <td>6</td>\n",
       "    </tr>\n",
       "    <tr>\n",
       "      <th>2</th>\n",
       "      <td>4</td>\n",
       "      <td>16</td>\n",
       "      <td>12.383</td>\n",
       "      <td>19.250</td>\n",
       "      <td>1</td>\n",
       "      <td>1.062481</td>\n",
       "      <td>1</td>\n",
       "      <td>1</td>\n",
       "      <td>2</td>\n",
       "      <td>5</td>\n",
       "      <td>5</td>\n",
       "      <td>7</td>\n",
       "    </tr>\n",
       "  </tbody>\n",
       "</table>\n",
       "</div>"
      ],
      "text/plain": [
       "   weekday_key  hour_key  distance_km  duration_min  driver_response  \\\n",
       "0            5        14       18.802        25.217                1   \n",
       "1            6        14        6.747         9.800                0   \n",
       "2            4        16       12.383        19.250                1   \n",
       "\n",
       "   distance  same_districts  offer_class_group  ride_type_desc  \\\n",
       "0  3.413092               0                  4               2   \n",
       "1  0.409999               0                  1               2   \n",
       "2  1.062481               1                  1               2   \n",
       "\n",
       "   driver_district  order_district  district  \n",
       "0                5               7         6  \n",
       "1                3               3         6  \n",
       "2                5               5         7  "
      ]
     },
     "execution_count": 104,
     "metadata": {},
     "output_type": "execute_result"
    }
   ],
   "source": [
    "final_data.head(3)"
   ]
  },
  {
   "cell_type": "markdown",
   "metadata": {},
   "source": [
    "Разделим выборку на обучающую и тестовую:"
   ]
  },
  {
   "cell_type": "code",
   "execution_count": 105,
   "metadata": {},
   "outputs": [],
   "source": [
    "X = final_data.drop(['driver_response'], axis = 1)"
   ]
  },
  {
   "cell_type": "code",
   "execution_count": 106,
   "metadata": {},
   "outputs": [],
   "source": [
    "y = final_data.driver_response"
   ]
  },
  {
   "cell_type": "code",
   "execution_count": 107,
   "metadata": {},
   "outputs": [
    {
     "name": "stdout",
     "output_type": "stream",
     "text": [
      "Количество элементов до операции: 73471\n",
      "Количество элементов после операции: 77692\n"
     ]
    }
   ],
   "source": [
    "ros = RandomOverSampler(random_state = 0)\n",
    "\n",
    "ros.fit(X, y)\n",
    "x_resampled, y_resampled = ros.fit_sample(X, y)\n",
    "print('Количество элементов до операции:', len(X))\n",
    "print('Количество элементов после операции:', len(x_resampled))"
   ]
  },
  {
   "cell_type": "code",
   "execution_count": 108,
   "metadata": {},
   "outputs": [],
   "source": [
    "x_train, x_test, y_train, y_test = train_test_split(x_resampled, y_resampled, test_size = 0.2)"
   ]
  },
  {
   "cell_type": "markdown",
   "metadata": {},
   "source": [
    "Обучим модель:"
   ]
  },
  {
   "cell_type": "code",
   "execution_count": 109,
   "metadata": {},
   "outputs": [
    {
     "data": {
      "text/plain": [
       "RandomForestClassifier()"
      ]
     },
     "execution_count": 109,
     "metadata": {},
     "output_type": "execute_result"
    }
   ],
   "source": [
    "# создаем модель деревья решений\n",
    "# выбираем 100 деревьев в качестве параметра\n",
    "model=RandomForestClassifier(n_estimators=100)\n",
    "\n",
    "# обучаем модель\n",
    "model.fit(x_train, y_train)"
   ]
  },
  {
   "cell_type": "markdown",
   "metadata": {},
   "source": [
    "Наиболее важные атрибуты для модели Random Forest:"
   ]
  },
  {
   "cell_type": "code",
   "execution_count": 110,
   "metadata": {},
   "outputs": [
    {
     "name": "stderr",
     "output_type": "stream",
     "text": [
      "No handles with labels found to put in legend.\n"
     ]
    },
    {
     "data": {
      "image/png": "[encoded data removed]",
      "text/plain": [
       "<Figure size 432x432 with 1 Axes>"
      ]
     },
     "metadata": {},
     "output_type": "display_data"
    }
   ],
   "source": [
    "headers = list(x_train.columns.values)\n",
    "\n",
    "feature_imp = pd.Series(model.feature_importances_,index=headers).sort_values(ascending=False)\n",
    "\n",
    "f, ax = plt.subplots(figsize=(6, 6))\n",
    "sns.barplot(x=feature_imp, y=feature_imp.index)\n",
    "\n",
    "plt.xlabel('Важность атрибутов')\n",
    "plt.ylabel('Атрибуты')\n",
    "plt.title(\"Наиболее важные атрибуты\")\n",
    "plt.legend()\n",
    "plt.show()"
   ]
  },
  {
   "cell_type": "markdown",
   "metadata": {},
   "source": [
    "Посчитаем качество модели - classification report:"
   ]
  },
  {
   "cell_type": "code",
   "execution_count": 111,
   "metadata": {},
   "outputs": [
    {
     "name": "stdout",
     "output_type": "stream",
     "text": [
      "              precision    recall  f1-score   support\n",
      "\n",
      "           0       0.82      0.71      0.76      7740\n",
      "           1       0.75      0.84      0.79      7799\n",
      "\n",
      "    accuracy                           0.78     15539\n",
      "   macro avg       0.78      0.78      0.78     15539\n",
      "weighted avg       0.78      0.78      0.78     15539\n",
      "\n"
     ]
    },
    {
     "data": {
      "text/plain": [
       "0.7768196151618508"
      ]
     },
     "execution_count": 111,
     "metadata": {},
     "output_type": "execute_result"
    }
   ],
   "source": [
    "model_pred = model.predict(x_test)\n",
    "\n",
    "print(classification_report(y_test, model_pred))\n",
    "\n",
    "model.score(x_test, y_test)"
   ]
  },
  {
   "cell_type": "markdown",
   "metadata": {},
   "source": [
    "К сожалению, качество модели не стало лучше. Тем не менее был получен интресный опыт работы с координатами и картами ;D"
   ]
  },
  {
   "cell_type": "code",
   "execution_count": null,
   "metadata": {},
   "outputs": [],
   "source": []
  }
 ],
 "metadata": {
  "kernelspec": {
   "display_name": "Python 3",
   "language": "python",
   "name": "python3"
  },
  "language_info": {
   "codemirror_mode": {
    "name": "ipython",
    "version": 3
   },
   "file_extension": ".py",
   "mimetype": "text/x-python",
   "name": "python",
   "nbconvert_exporter": "python",
   "pygments_lexer": "ipython3",
   "version": "3.7.6"
  }
 },
 "nbformat": 4,
 "nbformat_minor": 4
}
